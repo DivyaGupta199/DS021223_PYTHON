{
 "cells": [
  {
   "cell_type": "markdown",
   "metadata": {},
   "source": [
    "Ways of programming in python : \n",
    "\n",
    "1. Procedural way of programming\n",
    "2. Functional way of programming\n",
    "3. Object oriented programming "
   ]
  },
  {
   "cell_type": "markdown",
   "metadata": {},
   "source": [
    "# In functional programming, we make functions to do any task. \n",
    "\n",
    "# Function - It is a block of code which is designed to perform some task. There are two types of functions : \n",
    "    # Inbuilt functions - Inbuilt functions are the functions which are designed in python library and everyone can use them. \n",
    "        #e.g print(), input(), range(), type(), id() etc\n",
    "    # User defined functions - These functions are defined by the users/developers to perform certain task/activity.\n",
    "\n",
    "syntax : def function_name(parameters) : \n",
    "            body of function"
   ]
  },
  {
   "cell_type": "code",
   "execution_count": 2,
   "metadata": {},
   "outputs": [
    {
     "data": {
      "text/plain": [
       "32"
      ]
     },
     "execution_count": 2,
     "metadata": {},
     "output_type": "execute_result"
    }
   ],
   "source": [
    "# functions with parameter and return statement : \n",
    "def addition(a,b,c=20):\n",
    "    add = a + b + c\n",
    "    return add\n",
    "\n",
    "\n",
    "addition(b = 5,a = 7)\n",
    "# addition(2,3,1)\n"
   ]
  },
  {
   "cell_type": "markdown",
   "metadata": {},
   "source": [
    "# Define a function for multiplication of three numbers. \n"
   ]
  },
  {
   "cell_type": "code",
   "execution_count": 3,
   "metadata": {},
   "outputs": [
    {
     "name": "stdout",
     "output_type": "stream",
     "text": [
      "30\n"
     ]
    }
   ],
   "source": [
    "# function without parameter and return statement\n",
    "def multiplication():\n",
    "    a = int(input(\"Enter the first number : \"))\n",
    "    b = int(input(\"Enter the second number : \"))\n",
    "    c = int(input(\"Enter the Third number : \"))\n",
    "\n",
    "    multi = a * b * c\n",
    "    print(multi)\n",
    "    \n",
    "multiplication()\n"
   ]
  },
  {
   "cell_type": "code",
   "execution_count": null,
   "metadata": {},
   "outputs": [],
   "source": [
    "# Write a function for finding factorial of a given number.\n",
    "\n",
    "number = 5 \n",
    "factorial = 5 * 4 * 3 * 2 * 1\n"
   ]
  },
  {
   "cell_type": "code",
   "execution_count": 7,
   "metadata": {},
   "outputs": [
    {
     "name": "stdout",
     "output_type": "stream",
     "text": [
      "1  ,  1\n",
      "2  ,  2\n",
      "3  ,  6\n",
      "4  ,  24\n",
      "5  ,  120\n",
      "6  ,  720\n",
      "7  ,  5040\n",
      "8  ,  40320\n",
      "9  ,  362880\n",
      "10  ,  3628800\n"
     ]
    },
    {
     "data": {
      "text/plain": [
       "3628800"
      ]
     },
     "execution_count": 7,
     "metadata": {},
     "output_type": "execute_result"
    }
   ],
   "source": [
    "def factorial(number):\n",
    "    n = number\n",
    "    f = 1\n",
    "    for i in range(1,n+1):\n",
    "        # f = f * i\n",
    "        f *= i\n",
    "        print(i, \" , \",f)\n",
    "\n",
    "    return f\n",
    "\n",
    "factorial()"
   ]
  },
  {
   "cell_type": "markdown",
   "metadata": {},
   "source": [
    "Types of Arguments : \n",
    "1. Positional Arguments : The position of arguments remains the same in the definition and execution both, it does not get change. \n",
    "2. Defualt Arguments : When we assign some default value to the parameters at the time of definition then this are called as default arguments. \n",
    "3. Keyword Arguments : When we assign values to the arguments by their names then it is called keyword arguments. The position of parameters can be changed using this way. \n",
    "4. Arbitrary Arguments (*args) : When the number of arguments are not clear at the time of definition, then we use Arbitrary arguments to take any number of arguments from the user.\n",
    "5. Arbitrary Keyword Arguments : Here we can take any number of arguments during the execution of function but all the arguments should be keyword arguments it means in key and value pairs."
   ]
  },
  {
   "cell_type": "code",
   "execution_count": 11,
   "metadata": {},
   "outputs": [
    {
     "name": "stdout",
     "output_type": "stream",
     "text": [
      "1245pw1\n",
      "--------------------\n"
     ]
    }
   ],
   "source": [
    "print(\"1245pw1\")\n",
    "print(\"--------------------\")"
   ]
  },
  {
   "cell_type": "code",
   "execution_count": 20,
   "metadata": {},
   "outputs": [
    {
     "data": {
      "text/plain": [
       "240"
      ]
     },
     "execution_count": 20,
     "metadata": {},
     "output_type": "execute_result"
    }
   ],
   "source": [
    "def addition(*numbers):\n",
    "    sum = 0\n",
    "    for i in numbers:\n",
    "        sum +=i\n",
    "\n",
    "    return sum\n",
    "\n",
    "\n",
    "addition(10,20,10,200)"
   ]
  },
  {
   "cell_type": "code",
   "execution_count": 16,
   "metadata": {},
   "outputs": [
    {
     "name": "stdout",
     "output_type": "stream",
     "text": [
      "('Ram', 'Raghav', 'Shreya', 'Sanjay')\n"
     ]
    }
   ],
   "source": [
    "# Arbitrary arguments : \n",
    "def students(*names):\n",
    "    print(names)\n",
    "\n",
    "students(\"Ram\",\"Raghav\",\"Shreya\",\"Sanjay\")\n",
    "\n"
   ]
  },
  {
   "cell_type": "code",
   "execution_count": 22,
   "metadata": {},
   "outputs": [
    {
     "name": "stdout",
     "output_type": "stream",
     "text": [
      "Mother , Sita\n",
      "Father , Ram\n",
      "Brother , Kush\n",
      "Uncle , Laxman\n"
     ]
    }
   ],
   "source": [
    "# Arbitrary Keyword arguments (**kwargs): \n",
    "def family(**members):\n",
    "    for i,j in members.items():\n",
    "        print(i,\",\",j)\n",
    "\n",
    "family(Mother = \"Sita\", Father = \"Ram\", Brother = \"Kush\", Uncle = \"Laxman\")\n"
   ]
  },
  {
   "cell_type": "code",
   "execution_count": 26,
   "metadata": {},
   "outputs": [
    {
     "name": "stdout",
     "output_type": "stream",
     "text": [
      "7*1 = 7\n",
      "7*2 = 14\n",
      "7*3 = 21\n",
      "7*4 = 28\n",
      "7*5 = 35\n",
      "7*6 = 42\n",
      "7*7 = 49\n",
      "7*8 = 56\n",
      "7*9 = 63\n",
      "7*10 = 70\n"
     ]
    }
   ],
   "source": [
    "# Write a program to display the table a number using function. \n",
    "\n",
    "def table(number = 7):\n",
    "    for i in range(1,11):\n",
    "        print(f\"{number}*{i} = {number*i}\")\n",
    "\n",
    "table()"
   ]
  },
  {
   "cell_type": "code",
   "execution_count": 6,
   "metadata": {},
   "outputs": [
    {
     "name": "stdout",
     "output_type": "stream",
     "text": [
      "[20, 17, 12, 11, 10, 9, 9, 7, 6, 5, 5, 3, 3, 3, 3, 2, 1, 1, 0]\n"
     ]
    }
   ],
   "source": [
    "# Write a program to take arbitrary arguments from the user and arrange it in asceding order and display. \n",
    "\n",
    "def sorting(*numbers):\n",
    "    lst = list(numbers)\n",
    "    lst.sort(reverse = True)\n",
    "    print(lst)\n",
    "    \n",
    "\n",
    "sorting(5,3,5,7,9,3,1,3,6,9,0,2,3,1,10,12,11,20,17)\n"
   ]
  },
  {
   "cell_type": "markdown",
   "metadata": {},
   "source": [
    "A farmer breeds three species : \n",
    "1. chickens - 2 legs\n",
    "2. cows - 4 legs\n",
    "3. goats - 4 legs\n",
    "\n",
    "The farmer is asking you to tell the total number of legs among all his animals. \n",
    "Create a function which will take the input for number of chickens, cows and goats and returns the total number of legs. \n"
   ]
  },
  {
   "cell_type": "code",
   "execution_count": 3,
   "metadata": {},
   "outputs": [
    {
     "data": {
      "text/plain": [
       "32"
      ]
     },
     "execution_count": 3,
     "metadata": {},
     "output_type": "execute_result"
    }
   ],
   "source": [
    "def species(chicken,cows,goats):\n",
    "    chicken_count = chicken*2\n",
    "    cows_count = cows*4\n",
    "    goats_count = goats*4\n",
    "    sum = chicken_count + cows_count + goats_count\n",
    "    return sum\n",
    "\n",
    "species(2,3,4)"
   ]
  },
  {
   "cell_type": "code",
   "execution_count": 4,
   "metadata": {},
   "outputs": [
    {
     "data": {
      "text/plain": [
       "26"
      ]
     },
     "execution_count": 4,
     "metadata": {},
     "output_type": "execute_result"
    }
   ],
   "source": [
    "def calculate_legs(chickens, cows, goats):\n",
    "    chicken_legs = chickens * 2\n",
    "    cow_legs = cows * 4\n",
    "    goat_legs = goats * 4\n",
    "\n",
    "    total_legs = chicken_legs + cow_legs + goat_legs\n",
    "\n",
    "    return total_legs\n",
    "\n",
    "\n",
    "num_chickens = int(input(\"Enter the number of chickens: \"))\n",
    "num_cows = int(input(\"Enter the number of cows: \"))\n",
    "num_goats = int(input(\"Enter the number of goats: \"))\n",
    "\n",
    "calculate_legs(num_chickens,num_cows,num_goats)"
   ]
  },
  {
   "cell_type": "code",
   "execution_count": 6,
   "metadata": {},
   "outputs": [
    {
     "data": {
      "text/plain": [
       "22"
      ]
     },
     "execution_count": 6,
     "metadata": {},
     "output_type": "execute_result"
    }
   ],
   "source": [
    "def no_of_species(chickens=2,cows=3,goats=4):\n",
    "    legs = (2*chickens + 4*cows + 4*goats)\n",
    "    return legs\n",
    "\n",
    "no_of_species(1,2,3)"
   ]
  }
 ],
 "metadata": {
  "kernelspec": {
   "display_name": "base",
   "language": "python",
   "name": "python3"
  },
  "language_info": {
   "codemirror_mode": {
    "name": "ipython",
    "version": 3
   },
   "file_extension": ".py",
   "mimetype": "text/x-python",
   "name": "python",
   "nbconvert_exporter": "python",
   "pygments_lexer": "ipython3",
   "version": "3.9.13"
  }
 },
 "nbformat": 4,
 "nbformat_minor": 2
}
