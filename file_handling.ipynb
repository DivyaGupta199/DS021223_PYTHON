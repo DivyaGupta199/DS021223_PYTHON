{
 "cells": [
  {
   "cell_type": "markdown",
   "metadata": {},
   "source": [
    "File handling is used to store and retrieve the data from the file using python script. Files are used to store data permanently in our system as whatever data is generated during program execution is volatile in nature and gets deleting from the memory once the program is executed.\n",
    "\n",
    "A file is a named location in memory used for storing the data. \n",
    "Data can be of two types : \n",
    "1. text data\n",
    "2. Binary data \n",
    "\n",
    "There are two Modes of files : \n",
    "1. text mode\n",
    "2. Binary mode"
   ]
  },
  {
   "cell_type": "markdown",
   "metadata": {},
   "source": [
    "# Operations performed on a file \n",
    "1. create --> for creating a new file\n",
    "2. open  --> To open a file\n",
    "3. write/read --> To perform read/write operations\n",
    "4. close --> To close a file"
   ]
  },
  {
   "cell_type": "markdown",
   "metadata": {},
   "source": [
    "functions : \n",
    "1. open(\"filename\",\"mode\") - To open a file\n",
    "2. read() - To read the data\n",
    "3. write() - To write the data\n",
    "4. close() - To close the file."
   ]
  },
  {
   "cell_type": "markdown",
   "metadata": {},
   "source": [
    "# modes of opening a file \n",
    "# open(\"filename\",mode)\n",
    "1. 'x' --> To create a new file.\n",
    "2. 'r' --> To read data from the file. \n",
    "3. 'w' --> To write data to the file. if the file does not exist it creates a file.\n",
    "4. 'a' --> To append the data. if the file does not exist it creates a file.\n",
    "5. 'r+' --> To read the data from the file and write the data to the file, initially the position of cursor is at the beginning. it overrides the existing file. \n",
    "6. 'w+' --> This mode is used to write the data as well as read the data. It removes all the old data and writes the new data to the file. \n",
    "7. 'a+' --> This mode is used to append the data to the file as well as to read the data from the file. initially the position of cursor is at the end of the file. "
   ]
  },
  {
   "cell_type": "code",
   "execution_count": 1,
   "metadata": {},
   "outputs": [],
   "source": [
    "# To create a new file\n",
    "file = open(\"Sample_file.txt\",'x')\n"
   ]
  },
  {
   "cell_type": "code",
   "execution_count": 16,
   "metadata": {},
   "outputs": [],
   "source": [
    "# To write data to the file\n",
    "file = open(\"Sample_file.txt\",'w')\n",
    "data = \"we are learning file handling topic\"\n",
    "file.write(\"New data\")\n",
    "file.close()"
   ]
  },
  {
   "cell_type": "code",
   "execution_count": 15,
   "metadata": {},
   "outputs": [
    {
     "name": "stdout",
     "output_type": "stream",
     "text": [
      "we are learning file handling topic\n",
      "This is a sample file\n",
      "We are using write function to write data to the file\n"
     ]
    }
   ],
   "source": [
    "# To read data from the file : \n",
    "f = open(\"Sample_file.txt\",'r')\n",
    "data = f.read()\n",
    "print(data)\n",
    "f.close()"
   ]
  },
  {
   "cell_type": "code",
   "execution_count": 19,
   "metadata": {},
   "outputs": [
    {
     "name": "stdout",
     "output_type": "stream",
     "text": [
      "New datawe are learning file handling topic\n"
     ]
    }
   ],
   "source": [
    "# To read data from the file : \n",
    "f = open(\"Sample_file.txt\",'r')\n",
    "data = f.read()\n",
    "print(data)\n",
    "f.close()"
   ]
  },
  {
   "cell_type": "code",
   "execution_count": 18,
   "metadata": {},
   "outputs": [],
   "source": [
    "# To append data to the file\n",
    "file = open(\"Sample_file.txt\",'a')\n",
    "data = \"we are learning file handling topic\"\n",
    "file.write(data)\n",
    "file.close()"
   ]
  },
  {
   "cell_type": "markdown",
   "metadata": {},
   "source": [
    "# Make a program to create a new file, add some data to it and read the data from the file"
   ]
  },
  {
   "cell_type": "code",
   "execution_count": 29,
   "metadata": {},
   "outputs": [],
   "source": [
    "# 'r+' mode : \n",
    "file = open(\"Sample_file.txt\",\"r+\")\n",
    "# data = file.read()\n",
    "# print(data)\n",
    "file.write(\"We are writing some data to the file in read plus mode. This mode overides the existing data.\")\n",
    "file.close()"
   ]
  },
  {
   "cell_type": "code",
   "execution_count": 21,
   "metadata": {},
   "outputs": [],
   "source": [
    "# 'r+' mode : \n",
    "file = open(\"Sample_file.txt\",\"r+\")\n",
    "file.write(\"Writing in read plus mode.  \")\n",
    "file.close()"
   ]
  },
  {
   "cell_type": "code",
   "execution_count": 27,
   "metadata": {},
   "outputs": [],
   "source": [
    "file = open(\"New_file1.txt\",'a')"
   ]
  },
  {
   "cell_type": "code",
   "execution_count": 35,
   "metadata": {},
   "outputs": [
    {
     "name": "stdout",
     "output_type": "stream",
     "text": [
      "We are writing some data to the file in write plus mode. This mode overides the existing data.\n"
     ]
    }
   ],
   "source": [
    "# 'w+' mode : \n",
    "file = open(\"Sample_file.txt\",\"w+\")\n",
    "file.write(\"We are writing some data to the file in write plus mode. This mode overides the existing data.\")\n",
    "file.seek(0)\n",
    "data = file.read()\n",
    "print(data)\n",
    "file.close()"
   ]
  },
  {
   "cell_type": "code",
   "execution_count": 42,
   "metadata": {},
   "outputs": [
    {
     "name": "stdout",
     "output_type": "stream",
     "text": [
      "154\n",
      "5\n",
      "154\n",
      "e writing some data to the file in write plus mode. This mode overides the existing data. Writing in append plus mode.  Writing in append plus mode. \n"
     ]
    }
   ],
   "source": [
    "# 'a+' mode : \n",
    "file = open(\"Sample_file.txt\",\"a+\")\n",
    "file.write(\" Writing in append plus mode. \")\n",
    "print(file.tell())\n",
    "file.seek(0)\n",
    "print(file.tell())\n",
    "data = file.read()\n",
    "print(file.tell())\n",
    "print(data)\n",
    "file.close()"
   ]
  },
  {
   "cell_type": "markdown",
   "metadata": {},
   "source": [
    "# tell() - is used for finding the current position of the cursor\n",
    "# seek() - is used for moving the cursor to another position. "
   ]
  },
  {
   "cell_type": "markdown",
   "metadata": {},
   "source": [
    "# methods for reading the data from the file : \n",
    "1. read() - To read the complete data or specific specific number of characters.\n",
    "2. readline() - To read one line. \n",
    "3. readlines() - To read all the lines. "
   ]
  },
  {
   "cell_type": "code",
   "execution_count": 46,
   "metadata": {},
   "outputs": [
    {
     "name": "stdout",
     "output_type": "stream",
     "text": [
      "We are writing some data to the file in write plus mode\n"
     ]
    }
   ],
   "source": [
    "file = open(\"Sample_file.txt\",'r')\n",
    "data = file.read(55)\n",
    "print(data)\n",
    "file.close()\n"
   ]
  },
  {
   "cell_type": "code",
   "execution_count": 48,
   "metadata": {},
   "outputs": [
    {
     "name": "stdout",
     "output_type": "stream",
     "text": [
      "We are writing some data to the file in write plus mode. \n",
      "\n",
      "This mode overides the existing data. \n",
      "\n"
     ]
    }
   ],
   "source": [
    "file = open(\"Sample_file.txt\",'r')\n",
    "data = file.readline()\n",
    "print(data)\n",
    "data = file.readline()\n",
    "print(data)\n",
    "file.close()"
   ]
  },
  {
   "cell_type": "code",
   "execution_count": 49,
   "metadata": {},
   "outputs": [
    {
     "name": "stdout",
     "output_type": "stream",
     "text": [
      "['We are writing some data to the file in write plus mode. \\n', 'This mode overides the existing data. \\n', 'Writing in append plus mode. ']\n"
     ]
    }
   ],
   "source": [
    "file = open(\"Sample_file.txt\",'r')\n",
    "data = file.readlines()\n",
    "print(data)\n",
    "file.close()"
   ]
  },
  {
   "cell_type": "code",
   "execution_count": 50,
   "metadata": {},
   "outputs": [],
   "source": [
    "import os"
   ]
  },
  {
   "cell_type": "code",
   "execution_count": 51,
   "metadata": {},
   "outputs": [],
   "source": [
    "os.rename(\"Sample_file.txt\", \"New_Name.txt\")"
   ]
  },
  {
   "cell_type": "code",
   "execution_count": 52,
   "metadata": {},
   "outputs": [],
   "source": [
    "os.mkdir(\"New folder\")"
   ]
  },
  {
   "cell_type": "code",
   "execution_count": 53,
   "metadata": {},
   "outputs": [
    {
     "data": {
      "text/plain": [
       "'d:\\\\Divya.Gupta\\\\OneDrive - SUN Mobility\\\\Desktop\\\\Python\\\\Python DS021223'"
      ]
     },
     "execution_count": 53,
     "metadata": {},
     "output_type": "execute_result"
    }
   ],
   "source": [
    "os.getcwd()"
   ]
  },
  {
   "cell_type": "code",
   "execution_count": 54,
   "metadata": {},
   "outputs": [],
   "source": [
    "os.chdir('d:\\\\Divya.Gupta\\\\OneDrive - SUN Mobility\\\\Desktop\\\\Python\\\\Python DS021223\\\\maths')"
   ]
  },
  {
   "cell_type": "code",
   "execution_count": 55,
   "metadata": {},
   "outputs": [
    {
     "data": {
      "text/plain": [
       "'d:\\\\Divya.Gupta\\\\OneDrive - SUN Mobility\\\\Desktop\\\\Python\\\\Python DS021223\\\\maths'"
      ]
     },
     "execution_count": 55,
     "metadata": {},
     "output_type": "execute_result"
    }
   ],
   "source": [
    "os.getcwd()"
   ]
  },
  {
   "cell_type": "code",
   "execution_count": 56,
   "metadata": {},
   "outputs": [],
   "source": [
    "os.rmdir('d:\\\\Divya.Gupta\\\\OneDrive - SUN Mobility\\\\Desktop\\\\Python\\\\Python DS021223\\\\New folder')"
   ]
  },
  {
   "cell_type": "code",
   "execution_count": 58,
   "metadata": {},
   "outputs": [],
   "source": [
    "os.remove('d:\\\\Divya.Gupta\\\\OneDrive - SUN Mobility\\\\Desktop\\\\Python\\\\Python DS021223\\\\New_file1.txt')"
   ]
  },
  {
   "cell_type": "markdown",
   "metadata": {},
   "source": [
    "# write a program to take input of details such as student name, course, enrollment number, email address etc from atleast 5 students and store it permanently in a file. \n",
    "All the students details should be seperated by different lines and the details will be stored in the following manner\n",
    "\n",
    "\n",
    "student1, course, enrollment number, email_id\n",
    "student2, course, enrollment number, email_id\n",
    "student3, course, enrollment number, email_id\n",
    "student4, course, enrollment number, email_id\n",
    "student5, course, enrollment number, email_id"
   ]
  }
 ],
 "metadata": {
  "kernelspec": {
   "display_name": "base",
   "language": "python",
   "name": "python3"
  },
  "language_info": {
   "codemirror_mode": {
    "name": "ipython",
    "version": 3
   },
   "file_extension": ".py",
   "mimetype": "text/x-python",
   "name": "python",
   "nbconvert_exporter": "python",
   "pygments_lexer": "ipython3",
   "version": "3.9.13"
  }
 },
 "nbformat": 4,
 "nbformat_minor": 2
}
