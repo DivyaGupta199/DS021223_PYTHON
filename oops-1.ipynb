{
 "cells": [
  {
   "cell_type": "markdown",
   "metadata": {},
   "source": [
    "# Procedural programming\n",
    "# functional programming \n",
    "# Object oriented programming"
   ]
  },
  {
   "cell_type": "markdown",
   "metadata": {},
   "source": [
    "Object oriented programming : In object oriented programming we divide our code in different parts to make it cleaner and organized, and for the purpose of data security. \n",
    "Here, we use classes and objects to structure the code. "
   ]
  },
  {
   "cell_type": "markdown",
   "metadata": {},
   "source": [
    "class : It is a blueprint of the object. it is made by combining attributes(variables) and behaviours(functions/methods) at one place. \n",
    "syntax : \n",
    "class name:\n",
    "    pass\n",
    "\n",
    "object = instance of the class. "
   ]
  },
  {
   "cell_type": "markdown",
   "metadata": {},
   "source": [
    "class constructor : constructor is the __init__ method defined inside the class, and this method is called implicity without having the need to call the constructor method, it gets called as soon as the object of class is made. it is used for getting some values from the user while making object of the class and it is also used for initializing instance variables and if we need to execute certain code at the object creation so we can define it inside __init__ method. \n",
    "\n",
    "self --> It is an instance of the class which is used to access the attributes and methods of the class"
   ]
  },
  {
   "cell_type": "code",
   "execution_count": 13,
   "metadata": {},
   "outputs": [],
   "source": [
    "class calculator:\n",
    "    def __init__(self,x,y):\n",
    "        print(\"This calculator will give you addition, substraction, multiplication and division of the two numbers\")\n",
    "        self.x = x\n",
    "        self.y = y\n",
    "    def add(self):\n",
    "        return self.x+self.y\n",
    "    \n",
    "    def sub(self):\n",
    "        return self.x-self.y\n",
    "    \n",
    "    def multiplication(self):\n",
    "        return self.x*self.y\n",
    "    \n",
    "    def division(self):\n",
    "        return self.x/self.y\n",
    "    \n"
   ]
  },
  {
   "cell_type": "markdown",
   "metadata": {},
   "source": [
    "# create a class called numbers, which will define the number.\n",
    "--> Is_even()\n",
    "--> Is_natural_number()\n",
    "--> Is_positive()\n",
    "--> Is_prime()\n"
   ]
  },
  {
   "cell_type": "code",
   "execution_count": 16,
   "metadata": {},
   "outputs": [
    {
     "name": "stdout",
     "output_type": "stream",
     "text": [
      "This calculator will give you addition, substraction, multiplication and division of the two numbers\n"
     ]
    }
   ],
   "source": [
    "object = calculator(12,4)\n",
    "# print(object.add())\n",
    "# print(object.sub())\n",
    "# print(object.multiplication())\n",
    "# print(object.division())"
   ]
  },
  {
   "cell_type": "code",
   "execution_count": null,
   "metadata": {},
   "outputs": [],
   "source": [
    "class list:\n",
    "    def append():\n",
    "        pass\n",
    "    def insert():\n",
    "        pass\n",
    "    def remove():\n",
    "        pass"
   ]
  },
  {
   "cell_type": "code",
   "execution_count": 9,
   "metadata": {},
   "outputs": [
    {
     "data": {
      "text/plain": [
       "[4]"
      ]
     },
     "execution_count": 9,
     "metadata": {},
     "output_type": "execute_result"
    }
   ],
   "source": [
    "lst = list()\n",
    "lst.append(4)\n",
    "lst\n"
   ]
  },
  {
   "cell_type": "code",
   "execution_count": 2,
   "metadata": {},
   "outputs": [
    {
     "name": "stdout",
     "output_type": "stream",
     "text": [
      "<class 'list'>\n"
     ]
    }
   ],
   "source": [
    "lst = [1,2,3,4,5,6]\n",
    "print(type(lst))"
   ]
  },
  {
   "cell_type": "markdown",
   "metadata": {},
   "source": [
    "print()\n",
    "list :\n",
    "    insert()\n",
    "    append()\n",
    "dictionary : \n",
    "    update()\n",
    "set : \n",
    "    intersection() \n",
    "    union()\n",
    "string : \n",
    "    isupper()\n",
    "    islower()\n"
   ]
  },
  {
   "cell_type": "code",
   "execution_count": 17,
   "metadata": {},
   "outputs": [
    {
     "name": "stdout",
     "output_type": "stream",
     "text": [
      "False\n",
      "True\n",
      "True\n",
      "True\n"
     ]
    }
   ],
   "source": [
    "class Numbers:\n",
    "    def __init__(self, number):\n",
    "        self.number = number\n",
    "\n",
    "    def is_even(self):\n",
    "        return self.number % 2 == 0\n",
    "\n",
    "    def is_natural(self):\n",
    "        return self.number > 0\n",
    "\n",
    "    def is_positive(self):\n",
    "        return self.number >= 0\n",
    "\n",
    "    def is_prime(self):\n",
    "        if self.number < 2:\n",
    "            return False\n",
    "        for i in range(2, int(self.number**0.5) + 1):\n",
    "            if self.number % i == 0:\n",
    "                return False\n",
    "        return True\n",
    "\n",
    "obj = Numbers(5)\n",
    "\n",
    "print(obj.is_even())\n",
    "print(obj.is_natural())\n",
    "print(obj.is_positive())\n",
    "print(obj.is_prime())"
   ]
  }
 ],
 "metadata": {
  "kernelspec": {
   "display_name": "base",
   "language": "python",
   "name": "python3"
  },
  "language_info": {
   "codemirror_mode": {
    "name": "ipython",
    "version": 3
   },
   "file_extension": ".py",
   "mimetype": "text/x-python",
   "name": "python",
   "nbconvert_exporter": "python",
   "pygments_lexer": "ipython3",
   "version": "3.9.13"
  }
 },
 "nbformat": 4,
 "nbformat_minor": 2
}
