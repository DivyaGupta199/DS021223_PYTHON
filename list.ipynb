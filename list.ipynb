{
 "cells": [
  {
   "cell_type": "markdown",
   "metadata": {},
   "source": [
    "List is a sequence datatype. It is mutable in nature, It contains the collection of heterogeneous datatypes. \n",
    "The inbuilt methods of list datatype are :\n",
    "1. append() - This method is used to add a new element to the list. It adds the elements at the end of the list.\n",
    "2. insert() - This method is used to add a new element at a specific index in the list.\n",
    "3. extend() - This method is used to add a new list at the end of the list.\n",
    "4. pop() - This method is used to remove an element from the list using its index, by default it removes the last element from the list. If the index is not present so it raises the index error\n",
    "5. remove() - This method is used to remove an element from the list by its value. If the value is not present in the list so it raises value error.\n",
    "6. clear() - This method is used to make the list empty. It removes all the elements from the list.\n",
    "7. len() - This method is used to find the length of the list. \n",
    "8. join() - join method is used to join all the elements of a list to make it a string.\n",
    "9. sort() - This method is used to sort the elements in ascending or descending order. \n",
    "10. copy() - This method is used to make a copy of list.\n",
    "11. count() - This method is used to count the number of occurence of an element in the list.\n",
    "12. index() - This method is used to get the index number of any specific element in the list, if it is present more than 1 time so it returns the first index value of the element.\n",
    "13. reverse() - This method is used to reverse the list.\n",
    "\n",
    "\n"
   ]
  },
  {
   "cell_type": "code",
   "execution_count": 1,
   "metadata": {},
   "outputs": [
    {
     "data": {
      "text/plain": [
       "[1, 2, 3, 'string']"
      ]
     },
     "execution_count": 1,
     "metadata": {},
     "output_type": "execute_result"
    }
   ],
   "source": [
    "# append\n",
    "lst = [1,2,3]\n",
    "lst.append(\"string\")\n",
    "lst"
   ]
  },
  {
   "cell_type": "code",
   "execution_count": 3,
   "metadata": {},
   "outputs": [
    {
     "data": {
      "text/plain": [
       "[1, 2, 100, 3]"
      ]
     },
     "execution_count": 3,
     "metadata": {},
     "output_type": "execute_result"
    }
   ],
   "source": [
    "# insert \n",
    "lst = [1,2,3]\n",
    "lst.insert(2,100)\n",
    "lst"
   ]
  },
  {
   "cell_type": "code",
   "execution_count": 5,
   "metadata": {},
   "outputs": [
    {
     "data": {
      "text/plain": [
       "[1, 2, 3, 4, 5, 6, 7]"
      ]
     },
     "execution_count": 5,
     "metadata": {},
     "output_type": "execute_result"
    }
   ],
   "source": [
    "# extend()\n",
    "lst = [1,2,3]\n",
    "lst2 = [4,5,6,7]\n",
    "lst.extend(lst2)\n",
    "lst\n"
   ]
  },
  {
   "cell_type": "code",
   "execution_count": 11,
   "metadata": {},
   "outputs": [
    {
     "ename": "IndexError",
     "evalue": "pop index out of range",
     "output_type": "error",
     "traceback": [
      "\u001b[1;31m---------------------------------------------------------------------------\u001b[0m",
      "\u001b[1;31mIndexError\u001b[0m                                Traceback (most recent call last)",
      "\u001b[1;32m~\\AppData\\Local\\Temp\\ipykernel_24532\\1815077082.py\u001b[0m in \u001b[0;36m<module>\u001b[1;34m\u001b[0m\n\u001b[0;32m      2\u001b[0m \u001b[1;33m\u001b[0m\u001b[0m\n\u001b[0;32m      3\u001b[0m \u001b[0mlst\u001b[0m \u001b[1;33m=\u001b[0m \u001b[1;33m[\u001b[0m\u001b[1;36m1\u001b[0m\u001b[1;33m,\u001b[0m \u001b[1;36m2\u001b[0m\u001b[1;33m,\u001b[0m \u001b[1;36m3\u001b[0m\u001b[1;33m,\u001b[0m \u001b[1;36m4\u001b[0m\u001b[1;33m,\u001b[0m \u001b[1;36m5\u001b[0m\u001b[1;33m,\u001b[0m \u001b[1;36m6\u001b[0m\u001b[1;33m,\u001b[0m \u001b[1;36m7\u001b[0m\u001b[1;33m]\u001b[0m\u001b[1;33m\u001b[0m\u001b[1;33m\u001b[0m\u001b[0m\n\u001b[1;32m----> 4\u001b[1;33m \u001b[0mlst\u001b[0m\u001b[1;33m.\u001b[0m\u001b[0mpop\u001b[0m\u001b[1;33m(\u001b[0m\u001b[1;36m20\u001b[0m\u001b[1;33m)\u001b[0m\u001b[1;33m\u001b[0m\u001b[1;33m\u001b[0m\u001b[0m\n\u001b[0m\u001b[0;32m      5\u001b[0m \u001b[0mlst\u001b[0m\u001b[1;33m\u001b[0m\u001b[1;33m\u001b[0m\u001b[0m\n",
      "\u001b[1;31mIndexError\u001b[0m: pop index out of range"
     ]
    }
   ],
   "source": [
    "# pop()\n",
    "\n",
    "lst = [1, 2, 3, 4, 5, 6, 7]\n",
    "lst.pop(20)\n",
    "lst"
   ]
  },
  {
   "cell_type": "code",
   "execution_count": 10,
   "metadata": {},
   "outputs": [
    {
     "ename": "ValueError",
     "evalue": "list.remove(x): x not in list",
     "output_type": "error",
     "traceback": [
      "\u001b[1;31m---------------------------------------------------------------------------\u001b[0m",
      "\u001b[1;31mValueError\u001b[0m                                Traceback (most recent call last)",
      "\u001b[1;32m~\\AppData\\Local\\Temp\\ipykernel_24532\\3082563359.py\u001b[0m in \u001b[0;36m<module>\u001b[1;34m\u001b[0m\n\u001b[0;32m      2\u001b[0m \u001b[1;33m\u001b[0m\u001b[0m\n\u001b[0;32m      3\u001b[0m \u001b[0mlst\u001b[0m \u001b[1;33m=\u001b[0m \u001b[1;33m[\u001b[0m\u001b[1;36m1\u001b[0m\u001b[1;33m,\u001b[0m \u001b[1;36m2\u001b[0m\u001b[1;33m,\u001b[0m \u001b[1;36m3\u001b[0m\u001b[1;33m,\u001b[0m \u001b[1;36m4\u001b[0m\u001b[1;33m,\u001b[0m \u001b[1;36m5\u001b[0m\u001b[1;33m,\u001b[0m \u001b[1;36m6\u001b[0m\u001b[1;33m,\u001b[0m \u001b[1;36m7\u001b[0m\u001b[1;33m]\u001b[0m\u001b[1;33m\u001b[0m\u001b[1;33m\u001b[0m\u001b[0m\n\u001b[1;32m----> 4\u001b[1;33m \u001b[0mlst\u001b[0m\u001b[1;33m.\u001b[0m\u001b[0mremove\u001b[0m\u001b[1;33m(\u001b[0m\u001b[1;36m100\u001b[0m\u001b[1;33m)\u001b[0m\u001b[1;33m\u001b[0m\u001b[1;33m\u001b[0m\u001b[0m\n\u001b[0m\u001b[0;32m      5\u001b[0m \u001b[0mlst\u001b[0m\u001b[1;33m\u001b[0m\u001b[1;33m\u001b[0m\u001b[0m\n",
      "\u001b[1;31mValueError\u001b[0m: list.remove(x): x not in list"
     ]
    }
   ],
   "source": [
    "# remove()\n",
    "\n",
    "lst = [1, 2, 3, 4, 5, 6, 7]\n",
    "lst.remove(100)\n",
    "lst"
   ]
  },
  {
   "cell_type": "code",
   "execution_count": 12,
   "metadata": {},
   "outputs": [
    {
     "data": {
      "text/plain": [
       "[]"
      ]
     },
     "execution_count": 12,
     "metadata": {},
     "output_type": "execute_result"
    }
   ],
   "source": [
    "# clear()\n",
    "\n",
    "lst = [1, 2, 3, 4, 5, 6, 7]\n",
    "lst.clear()\n",
    "lst\n",
    "\n"
   ]
  },
  {
   "cell_type": "code",
   "execution_count": 13,
   "metadata": {},
   "outputs": [
    {
     "data": {
      "text/plain": [
       "7"
      ]
     },
     "execution_count": 13,
     "metadata": {},
     "output_type": "execute_result"
    }
   ],
   "source": [
    "# len()\n",
    "lst = [1, 2, 3, 4, 5, 6, 7]\n",
    "len(lst)"
   ]
  },
  {
   "cell_type": "code",
   "execution_count": 17,
   "metadata": {},
   "outputs": [
    {
     "data": {
      "text/plain": [
       "'1 2 3 4 5 6 7'"
      ]
     },
     "execution_count": 17,
     "metadata": {},
     "output_type": "execute_result"
    }
   ],
   "source": [
    "# join()\n",
    "\n",
    "lst = ['1', '2', '3', '4', '5', '6', '7']\n",
    "\" \".join(lst)"
   ]
  },
  {
   "cell_type": "code",
   "execution_count": 26,
   "metadata": {},
   "outputs": [
    {
     "data": {
      "text/plain": [
       "[34, 30, 23, 22, 19, 14, 12, 11, 10, 5]"
      ]
     },
     "execution_count": 26,
     "metadata": {},
     "output_type": "execute_result"
    }
   ],
   "source": [
    "# sort()\n",
    "\n",
    "lst = [34,12,23,10,19,22,11,14,5,30]\n",
    "lst.sort(reverse = True)\n",
    "lst"
   ]
  },
  {
   "cell_type": "code",
   "execution_count": 22,
   "metadata": {},
   "outputs": [
    {
     "name": "stdout",
     "output_type": "stream",
     "text": [
      "[34, 12, 23, 10, 19, 22, 11, 14, 5, 30, 100]\n"
     ]
    }
   ],
   "source": [
    "# copy()\n",
    "\n",
    "lst = [34,12,23,10,19,22,11,14,5,30]\n",
    "lst2 = lst.copy()\n",
    "lst.append(100)\n",
    "print(lst)"
   ]
  },
  {
   "cell_type": "code",
   "execution_count": 32,
   "metadata": {},
   "outputs": [
    {
     "data": {
      "text/plain": [
       "1"
      ]
     },
     "execution_count": 32,
     "metadata": {},
     "output_type": "execute_result"
    }
   ],
   "source": [
    "# count() : \n",
    "lst = [1,1,2,2,2,3,3,3,4,4,5,5,5,5,7,7,0]\n",
    "lst.count(0)"
   ]
  },
  {
   "cell_type": "code",
   "execution_count": 36,
   "metadata": {},
   "outputs": [
    {
     "data": {
      "text/plain": [
       "[0, 7, 7, 5, 5, 5, 5, 4, 4, 3, 3, 3, 2, 2, 2, 1, 1]"
      ]
     },
     "execution_count": 36,
     "metadata": {},
     "output_type": "execute_result"
    }
   ],
   "source": [
    "# index()\n",
    "\n",
    "lst = [1,1,2,2,2,3,3,3,4,4,5,5,5,5,7,7,0]\n",
    "lst.index(3)\n",
    "lst.reverse()\n",
    "lst\n",
    "\n"
   ]
  },
  {
   "cell_type": "markdown",
   "metadata": {},
   "source": [
    "# write a program to get the second largest element in a list of numbers."
   ]
  },
  {
   "cell_type": "code",
   "execution_count": 45,
   "metadata": {},
   "outputs": [
    {
     "name": "stdout",
     "output_type": "stream",
     "text": [
      "[55, 50, 30, 20, 12, 10, 1, 0]\n",
      "2nd largest number is 50\n"
     ]
    }
   ],
   "source": [
    "lst = [10,12,12,0,1,1,10,20,0,50,30,55,55]\n",
    "set1 = set(lst)\n",
    "set1 = list(set1)\n",
    "set1.sort(reverse= True)\n",
    "print(set1)\n",
    "print(f\"2nd largest number is {set1[1]}\")"
   ]
  },
  {
   "cell_type": "code",
   "execution_count": 47,
   "metadata": {},
   "outputs": [
    {
     "name": "stdout",
     "output_type": "stream",
     "text": [
      "[5, 8, 10, 19, 20]\n",
      "The second largest number is: 19\n"
     ]
    }
   ],
   "source": [
    "numbers = [20, 5, 8, 10, 19]\n",
    "\n",
    "sorted_numbers = sorted(numbers)\n",
    "print(sorted_numbers)\n",
    "\n",
    "if len(sorted_numbers) >= 2:\n",
    "    second_largest = sorted_numbers[-2]\n",
    "    print(f\"The second largest number is: {second_largest}\")\n",
    "else:\n",
    "    print(\"number is not \")\n"
   ]
  },
  {
   "cell_type": "code",
   "execution_count": 48,
   "metadata": {},
   "outputs": [
    {
     "name": "stdout",
     "output_type": "stream",
     "text": [
      "The average of all elements is: 11.6\n"
     ]
    }
   ],
   "source": [
    "# Write a program to get average of all elements in the list of numbers.\n",
    "# average = sum of numbers/ total numbers\n",
    "num = [10, 5, 8, 20, 15]\n",
    "\n",
    "avg = sum(num) / len(num)\n",
    "\n",
    "print(f\"The average of all elements is: {avg}\")\n",
    "\n"
   ]
  },
  {
   "cell_type": "markdown",
   "metadata": {},
   "source": [
    "H.W : WRITE A PYTHON PROGRAM TO COUNT THE NUMBER OF EVEN NUMBERS AND ODD NUMBERS IN A LIST OF NUMBERS.\n",
    "E.G LIST = [1,2,3,4,5,6,7,8,9,0,10,11,12]\n",
    "OUTPUT : \n",
    "EVEN_NUMBERS = 7\n",
    "ODD NUMBERS = 6\n"
   ]
  },
  {
   "cell_type": "markdown",
   "metadata": {},
   "source": [
    "H.W : WRITE A PYTHON PROGRAM TO COUNT THE NUMBER OF POSITIVE NUMBERS AND NEGATIVE NUMBERS IN A LIST OF NUMBERS."
   ]
  },
  {
   "cell_type": "code",
   "execution_count": 1,
   "metadata": {},
   "outputs": [
    {
     "name": "stdout",
     "output_type": "stream",
     "text": [
      "Total even numbers are 7\n",
      "Total odd numbers are 6\n"
     ]
    }
   ],
   "source": [
    "numbers = [1,2,3,4,5,6,7,8,9,0,10,11,12]\n",
    "\n",
    "even_num = 0\n",
    "odd_num = 0\n",
    "\n",
    "for char in numbers :\n",
    "    if char % 2 == 0:\n",
    "        even_num += 1\n",
    "    else:\n",
    "        odd_num += 1\n",
    "\n",
    "print(\"Total even numbers are\",even_num)\n",
    "print(\"Total odd numbers are\",odd_num)"
   ]
  },
  {
   "cell_type": "code",
   "execution_count": 3,
   "metadata": {},
   "outputs": [
    {
     "name": "stdout",
     "output_type": "stream",
     "text": [
      "Total positive numbers are 7\n",
      "Total negative numbers are 5\n"
     ]
    }
   ],
   "source": [
    "numbers = [1,-2,3,4,-5,6,-7,-8,9,0,10,-11,12]\n",
    "\n",
    "positive_num = 0\n",
    "negative_num = 0\n",
    "\n",
    "for char in numbers :\n",
    "    if char > 0:\n",
    "        positive_num  += 1\n",
    "    if char < 0:\n",
    "        negative_num  += 1\n",
    "\n",
    "print(\"Total positive numbers are\",positive_num )\n",
    "print(\"Total negative numbers are\",negative_num )"
   ]
  }
 ],
 "metadata": {
  "kernelspec": {
   "display_name": "base",
   "language": "python",
   "name": "python3"
  },
  "language_info": {
   "codemirror_mode": {
    "name": "ipython",
    "version": 3
   },
   "file_extension": ".py",
   "mimetype": "text/x-python",
   "name": "python",
   "nbconvert_exporter": "python",
   "pygments_lexer": "ipython3",
   "version": "3.9.13"
  }
 },
 "nbformat": 4,
 "nbformat_minor": 2
}
