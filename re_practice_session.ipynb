{
 "cells": [
  {
   "cell_type": "markdown",
   "metadata": {},
   "source": [
    "# write a program to check the validity of a pincode. "
   ]
  },
  {
   "cell_type": "markdown",
   "metadata": {},
   "source": []
  },
  {
   "cell_type": "code",
   "execution_count": 4,
   "metadata": {},
   "outputs": [
    {
     "name": "stdout",
     "output_type": "stream",
     "text": [
      "Valid pincode\n"
     ]
    }
   ],
   "source": [
    "import re\n",
    "pincode = input(\"Enter the pincode : \")\n",
    "pattern = \"^\\d{6}$\"\n",
    "result = re.search(pattern, pincode)\n",
    "if result:\n",
    "    print(\"Valid pincode\")\n",
    "\n",
    "else:\n",
    "    print(\"Invalid\")"
   ]
  },
  {
   "cell_type": "code",
   "execution_count": 7,
   "metadata": {},
   "outputs": [
    {
     "name": "stdout",
     "output_type": "stream",
     "text": [
      "Valid mobile number.\n"
     ]
    }
   ],
   "source": [
    "# write a program to check the validity of a mobile number. [6,7,8,9]\n",
    "\n",
    "import re\n",
    "\n",
    "mob_num = input(\"Enter mobile number: \")\n",
    "pattern = \"^[6-9]\\d{9}$\"\n",
    "result = re.match(pattern, mob_num)\n",
    "\n",
    "if result:\n",
    "    print(\"Valid mobile number.\")\n",
    "else:\n",
    "    print(\"Invalid mobile number\")\n"
   ]
  },
  {
   "cell_type": "code",
   "execution_count": null,
   "metadata": {},
   "outputs": [],
   "source": [
    "# Write a program to check the validity of a pancard number. \n",
    "#format : 'AQBIG1234D' \n"
   ]
  },
  {
   "cell_type": "code",
   "execution_count": 12,
   "metadata": {},
   "outputs": [
    {
     "name": "stdout",
     "output_type": "stream",
     "text": [
      "Invalid PAN card number.\n"
     ]
    }
   ],
   "source": [
    "import re\n",
    "\n",
    "pan_card_num = input(\"Enter PAN card number: \")\n",
    "pattern = '^[A-Z]{5}[0-9]{4}[A-Z]$'\n",
    "\n",
    "if re.match(pattern,pan_card_num):\n",
    "    print(\"Valid PAN card number.\")\n",
    "else:\n",
    "    print(\"Invalid PAN card number.\")"
   ]
  },
  {
   "cell_type": "code",
   "execution_count": null,
   "metadata": {},
   "outputs": [],
   "source": [
    "# Write a program to check the validity of aadhar card\n",
    "# 6675 1234 4532 "
   ]
  },
  {
   "cell_type": "code",
   "execution_count": 13,
   "metadata": {},
   "outputs": [
    {
     "name": "stdout",
     "output_type": "stream",
     "text": [
      "Valid Aadhaar card number.\n"
     ]
    }
   ],
   "source": [
    "import re\n",
    "\n",
    "aadhar_card_num = input(\"Enter Aadhaar card number: \")\n",
    "pattern = '^[1-9]\\d{11}$'\n",
    "\n",
    "if re.match(pattern, aadhar_card_num):\n",
    "    print(\"Valid Aadhaar card number.\")\n",
    "else:\n",
    "    print(\"Invalid Aadhaar card number.\")"
   ]
  },
  {
   "cell_type": "code",
   "execution_count": 24,
   "metadata": {},
   "outputs": [
    {
     "name": "stdout",
     "output_type": "stream",
     "text": [
      "Invalid email id\n"
     ]
    }
   ],
   "source": [
    "# write a program to check the validity of a email id. \n",
    "# format : divya_1234@gmail.com\n",
    "\n",
    "email_id = input(\"Enter your email id : \")\n",
    "pattern = \"^\\w+[@][a-z]+[.][a-z]+$\"\n",
    "result = re.search(pattern,email_id)\n",
    "if result:\n",
    "    print(\"Valid email id\")\n",
    "\n",
    "else:\n",
    "    print(\"Invalid email id\")"
   ]
  },
  {
   "cell_type": "code",
   "execution_count": 4,
   "metadata": {},
   "outputs": [
    {
     "name": "stdout",
     "output_type": "stream",
     "text": [
      "Invalid password. \n"
     ]
    }
   ],
   "source": [
    "# write a program to check the validity of a password.\n",
    "\n",
    "# capital letter, small letter, digit, special symbol, length>8 \n",
    "\n",
    "import re\n",
    "\n",
    "password = input(\"Enter password: \")\n",
    "pattern = '^(?=.*[A-Z])(?=.*[a-z])(?=.*\\d)(?=.*[@#$%^&*+]).{8,15}$'\n",
    "\n",
    "if re.search(pattern, password):\n",
    "    print(\"Valid password.\")\n",
    "else:\n",
    "    print(\"Invalid password. \")"
   ]
  }
 ],
 "metadata": {
  "kernelspec": {
   "display_name": "base",
   "language": "python",
   "name": "python3"
  },
  "language_info": {
   "codemirror_mode": {
    "name": "ipython",
    "version": 3
   },
   "file_extension": ".py",
   "mimetype": "text/x-python",
   "name": "python",
   "nbconvert_exporter": "python",
   "pygments_lexer": "ipython3",
   "version": "3.9.13"
  }
 },
 "nbformat": 4,
 "nbformat_minor": 2
}
