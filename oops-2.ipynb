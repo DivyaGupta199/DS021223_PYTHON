{
 "cells": [
  {
   "cell_type": "markdown",
   "metadata": {},
   "source": [
    "# Four pillars of object oriented programming : \n",
    "Inheritance\n",
    "Encapsulation\n",
    "Abstraction\n",
    "Polymorphism"
   ]
  },
  {
   "cell_type": "markdown",
   "metadata": {},
   "source": [
    "Inheritance : Inheritance is the property by which a class can inherit the features/functions of another class by inheriting it. \n",
    "Existing class ---> New class\n",
    "Parent class/ Base class ---> child class/ Derived class"
   ]
  },
  {
   "cell_type": "markdown",
   "metadata": {},
   "source": [
    "Types of Inheritance : \n",
    "1. Single inheritance\n",
    "2. Multiple Inheritance\n",
    "3. Multi-level Inheritance\n",
    "4. Hierarchical Inheritance\n",
    "5. Hybrid Inheritance"
   ]
  },
  {
   "cell_type": "markdown",
   "metadata": {},
   "source": [
    "Single Inheritance : Here we have one parent class and one child class. "
   ]
  },
  {
   "cell_type": "code",
   "execution_count": 1,
   "metadata": {},
   "outputs": [],
   "source": [
    "class parent: \n",
    "    def house(self):\n",
    "        print(\"House\")\n",
    "    def land(self):\n",
    "        print(\"Land\")"
   ]
  },
  {
   "cell_type": "code",
   "execution_count": 2,
   "metadata": {},
   "outputs": [],
   "source": [
    "class child(parent):\n",
    "    def car(self):\n",
    "        print(\"Car\")\n"
   ]
  },
  {
   "cell_type": "code",
   "execution_count": 3,
   "metadata": {},
   "outputs": [
    {
     "name": "stdout",
     "output_type": "stream",
     "text": [
      "House\n"
     ]
    }
   ],
   "source": [
    "obj1 = parent()\n",
    "obj1.house()"
   ]
  },
  {
   "cell_type": "code",
   "execution_count": 4,
   "metadata": {},
   "outputs": [
    {
     "name": "stdout",
     "output_type": "stream",
     "text": [
      "Land\n"
     ]
    }
   ],
   "source": [
    "obj1.land()"
   ]
  },
  {
   "cell_type": "code",
   "execution_count": 5,
   "metadata": {},
   "outputs": [
    {
     "ename": "AttributeError",
     "evalue": "'parent' object has no attribute 'car'",
     "output_type": "error",
     "traceback": [
      "\u001b[1;31m---------------------------------------------------------------------------\u001b[0m",
      "\u001b[1;31mAttributeError\u001b[0m                            Traceback (most recent call last)",
      "\u001b[1;32m~\\AppData\\Local\\Temp\\ipykernel_21944\\314088368.py\u001b[0m in \u001b[0;36m<module>\u001b[1;34m\u001b[0m\n\u001b[1;32m----> 1\u001b[1;33m \u001b[0mobj1\u001b[0m\u001b[1;33m.\u001b[0m\u001b[0mcar\u001b[0m\u001b[1;33m(\u001b[0m\u001b[1;33m)\u001b[0m\u001b[1;33m\u001b[0m\u001b[1;33m\u001b[0m\u001b[0m\n\u001b[0m",
      "\u001b[1;31mAttributeError\u001b[0m: 'parent' object has no attribute 'car'"
     ]
    }
   ],
   "source": [
    "obj1.car()"
   ]
  },
  {
   "cell_type": "code",
   "execution_count": 7,
   "metadata": {},
   "outputs": [
    {
     "name": "stdout",
     "output_type": "stream",
     "text": [
      "House\n"
     ]
    }
   ],
   "source": [
    "obj2 = child()\n",
    "obj2.house()"
   ]
  },
  {
   "cell_type": "code",
   "execution_count": 8,
   "metadata": {},
   "outputs": [
    {
     "name": "stdout",
     "output_type": "stream",
     "text": [
      "Land\n"
     ]
    }
   ],
   "source": [
    "obj2.land()"
   ]
  },
  {
   "cell_type": "code",
   "execution_count": 9,
   "metadata": {},
   "outputs": [
    {
     "name": "stdout",
     "output_type": "stream",
     "text": [
      "Car\n"
     ]
    }
   ],
   "source": [
    "obj2.car()"
   ]
  },
  {
   "cell_type": "code",
   "execution_count": 10,
   "metadata": {},
   "outputs": [],
   "source": [
    "class father:\n",
    "    def house(self):\n",
    "        print(\"House\")\n",
    "\n",
    "    def car(self):\n",
    "        print(\"car\")\n",
    "\n",
    "\n",
    "class mother:\n",
    "    def jwellery(self):\n",
    "        print(\"Jwellery\")"
   ]
  },
  {
   "cell_type": "code",
   "execution_count": 11,
   "metadata": {},
   "outputs": [],
   "source": [
    "class child(father, mother):\n",
    "    def gold(self):\n",
    "        print(\"Gold\")"
   ]
  },
  {
   "cell_type": "code",
   "execution_count": 12,
   "metadata": {},
   "outputs": [
    {
     "name": "stdout",
     "output_type": "stream",
     "text": [
      "House\n"
     ]
    }
   ],
   "source": [
    "obj1 = father()\n",
    "obj1.house()"
   ]
  },
  {
   "cell_type": "code",
   "execution_count": 14,
   "metadata": {},
   "outputs": [
    {
     "ename": "AttributeError",
     "evalue": "'father' object has no attribute 'gold'",
     "output_type": "error",
     "traceback": [
      "\u001b[1;31m---------------------------------------------------------------------------\u001b[0m",
      "\u001b[1;31mAttributeError\u001b[0m                            Traceback (most recent call last)",
      "\u001b[1;32m~\\AppData\\Local\\Temp\\ipykernel_21944\\262228723.py\u001b[0m in \u001b[0;36m<module>\u001b[1;34m\u001b[0m\n\u001b[1;32m----> 1\u001b[1;33m \u001b[0mobj1\u001b[0m\u001b[1;33m.\u001b[0m\u001b[0mgold\u001b[0m\u001b[1;33m(\u001b[0m\u001b[1;33m)\u001b[0m\u001b[1;33m\u001b[0m\u001b[1;33m\u001b[0m\u001b[0m\n\u001b[0m",
      "\u001b[1;31mAttributeError\u001b[0m: 'father' object has no attribute 'gold'"
     ]
    }
   ],
   "source": [
    "obj1.gold()"
   ]
  },
  {
   "cell_type": "code",
   "execution_count": 15,
   "metadata": {},
   "outputs": [
    {
     "name": "stdout",
     "output_type": "stream",
     "text": [
      "Gold\n",
      "car\n",
      "Jwellery\n"
     ]
    }
   ],
   "source": [
    "obj2 = child()\n",
    "obj2.gold()\n",
    "obj2.car()\n",
    "obj2.jwellery()"
   ]
  },
  {
   "cell_type": "markdown",
   "metadata": {},
   "source": [
    "calculator class - parent class\n",
    "number class - derived class "
   ]
  },
  {
   "cell_type": "code",
   "execution_count": null,
   "metadata": {},
   "outputs": [],
   "source": [
    "class calculator:\n",
    "    def __init__(self,x,y):\n",
    "        self.x = x\n",
    "        self.y = y\n",
    "    def add(self):\n",
    "        return self.x+self.y\n",
    "    \n",
    "    def sub(self):\n",
    "        return self.x-self.y\n",
    "    \n",
    "    def multiplication(self):\n",
    "        return self.x*self.y\n",
    "    \n",
    "    def division(self):\n",
    "        return self.x/self.y\n",
    "class Numbers():\n",
    "    def __init__(self, number):\n",
    "        self.number = number\n",
    "\n",
    "    def is_even(self):\n",
    "        return self.number % 2 == 0\n",
    "\n",
    "    def is_positive(self):\n",
    "        return self.number >= 0"
   ]
  },
  {
   "cell_type": "code",
   "execution_count": null,
   "metadata": {},
   "outputs": [],
   "source": [
    "obj1 = calculator(4,6)\n",
    "obj1.add()\n",
    "obj1.sub()\n",
    "obj1.multiplication()\n",
    "obj1.division()"
   ]
  },
  {
   "cell_type": "code",
   "execution_count": 16,
   "metadata": {},
   "outputs": [],
   "source": [
    "# Multi-level Inheritance : \n",
    "\n",
    "class grand_parent:\n",
    "    def fun1(self):\n",
    "        print(\"Function 1 of grand parent class\")\n",
    "\n",
    "    def fun2(self):\n",
    "        print(\"Function 2 of Grand parent class\")\n"
   ]
  },
  {
   "cell_type": "code",
   "execution_count": 17,
   "metadata": {},
   "outputs": [],
   "source": [
    "class parent(grand_parent):\n",
    "    def fun3(self):\n",
    "        print(\"Function 3 of parent class\")\n",
    "\n",
    "    def fun4(self):\n",
    "        print(\"Function 4 of parent class\")"
   ]
  },
  {
   "cell_type": "code",
   "execution_count": 18,
   "metadata": {},
   "outputs": [],
   "source": [
    "class child(parent):\n",
    "    def fun5(self):\n",
    "        print(\"Function 5 of child class\")"
   ]
  },
  {
   "cell_type": "code",
   "execution_count": 24,
   "metadata": {},
   "outputs": [
    {
     "name": "stdout",
     "output_type": "stream",
     "text": [
      "Function 1 of grand parent class\n"
     ]
    }
   ],
   "source": [
    "obj_gp = grand_parent()\n",
    "obj_gp.fun1()"
   ]
  },
  {
   "cell_type": "code",
   "execution_count": 28,
   "metadata": {},
   "outputs": [
    {
     "name": "stdout",
     "output_type": "stream",
     "text": [
      "Function 1 of grand parent class\n"
     ]
    }
   ],
   "source": [
    "obj_p = parent()\n",
    "obj_p.fun1()"
   ]
  },
  {
   "cell_type": "code",
   "execution_count": 31,
   "metadata": {},
   "outputs": [
    {
     "name": "stdout",
     "output_type": "stream",
     "text": [
      "Function 1 of grand parent class\n"
     ]
    }
   ],
   "source": [
    "obj_c = child()\n",
    "obj_c.fun1()"
   ]
  },
  {
   "cell_type": "code",
   "execution_count": 44,
   "metadata": {},
   "outputs": [],
   "source": [
    "class calculator:\n",
    "    a = 10\n",
    "    b = 5\n",
    "\n",
    "    def __init__(self):\n",
    "        print(\"This calculator will give you addition, substraction, multiplication and division of the two numbers\")\n",
    "        \n",
    "    def add(self,x,y):\n",
    "        return x + y\n",
    "    \n",
    "    def sub(self):\n",
    "        return calculator.a - calculator.b\n",
    "    \n",
    "    def multiplication(self):\n",
    "        return calculator.a * calculator.b\n",
    "    \n",
    "    def division(self):\n",
    "        return calculator.a * calculator.b\n",
    "    \n",
    "class Numbers(calculator):\n",
    "    def __init__(self, number):\n",
    "        self.number = number\n",
    "\n",
    "    def is_even(self):\n",
    "        return self.number % 2 == 0\n",
    "\n",
    "    def is_natural(self):\n",
    "        return self.number > 0\n",
    "\n",
    "    def is_positive(self):\n",
    "        return self.number >= 0\n",
    "\n",
    "    def is_prime(self):\n",
    "        if self.number < 2:\n",
    "            return False\n",
    "        for i in range(2, int(self.number**0.5) + 1):\n",
    "            if self.number % i == 0:\n",
    "                return False\n",
    "        return True"
   ]
  },
  {
   "cell_type": "code",
   "execution_count": 45,
   "metadata": {},
   "outputs": [],
   "source": [
    "obj = Numbers(10)"
   ]
  },
  {
   "cell_type": "code",
   "execution_count": 46,
   "metadata": {},
   "outputs": [
    {
     "data": {
      "text/plain": [
       "False"
      ]
     },
     "execution_count": 46,
     "metadata": {},
     "output_type": "execute_result"
    }
   ],
   "source": [
    "obj.is_prime()"
   ]
  },
  {
   "cell_type": "code",
   "execution_count": 47,
   "metadata": {},
   "outputs": [
    {
     "data": {
      "text/plain": [
       "5"
      ]
     },
     "execution_count": 47,
     "metadata": {},
     "output_type": "execute_result"
    }
   ],
   "source": [
    "obj.sub()"
   ]
  },
  {
   "cell_type": "code",
   "execution_count": 48,
   "metadata": {},
   "outputs": [
    {
     "data": {
      "text/plain": [
       "30"
      ]
     },
     "execution_count": 48,
     "metadata": {},
     "output_type": "execute_result"
    }
   ],
   "source": [
    "obj.add(10,20)"
   ]
  },
  {
   "cell_type": "code",
   "execution_count": 49,
   "metadata": {},
   "outputs": [],
   "source": [
    "# Hierarchical Inheritance : \n",
    "class parent: \n",
    "    def house(self):\n",
    "        print(\"House\")\n",
    "    def land(self):\n",
    "        print(\"Land\")\n",
    "\n",
    "class child1(parent):\n",
    "    def car(self):\n",
    "        print(\"CAR\")\n",
    "\n",
    "class child2(parent):\n",
    "    def bike(self):\n",
    "        print(\"BIKE\")"
   ]
  },
  {
   "cell_type": "code",
   "execution_count": 50,
   "metadata": {},
   "outputs": [],
   "source": [
    "obj = parent()"
   ]
  },
  {
   "cell_type": "code",
   "execution_count": 52,
   "metadata": {},
   "outputs": [
    {
     "name": "stdout",
     "output_type": "stream",
     "text": [
      "House\n",
      "Land\n"
     ]
    },
    {
     "ename": "AttributeError",
     "evalue": "'parent' object has no attribute 'bike'",
     "output_type": "error",
     "traceback": [
      "\u001b[1;31m---------------------------------------------------------------------------\u001b[0m",
      "\u001b[1;31mAttributeError\u001b[0m                            Traceback (most recent call last)",
      "\u001b[1;32m~\\AppData\\Local\\Temp\\ipykernel_21944\\196215767.py\u001b[0m in \u001b[0;36m<module>\u001b[1;34m\u001b[0m\n\u001b[0;32m      2\u001b[0m \u001b[0mobj\u001b[0m\u001b[1;33m.\u001b[0m\u001b[0mland\u001b[0m\u001b[1;33m(\u001b[0m\u001b[1;33m)\u001b[0m\u001b[1;33m\u001b[0m\u001b[1;33m\u001b[0m\u001b[0m\n\u001b[0;32m      3\u001b[0m \u001b[1;31m# obj.car()\u001b[0m\u001b[1;33m\u001b[0m\u001b[1;33m\u001b[0m\u001b[0m\n\u001b[1;32m----> 4\u001b[1;33m \u001b[0mobj\u001b[0m\u001b[1;33m.\u001b[0m\u001b[0mbike\u001b[0m\u001b[1;33m(\u001b[0m\u001b[1;33m)\u001b[0m\u001b[1;33m\u001b[0m\u001b[1;33m\u001b[0m\u001b[0m\n\u001b[0m",
      "\u001b[1;31mAttributeError\u001b[0m: 'parent' object has no attribute 'bike'"
     ]
    }
   ],
   "source": [
    "obj.house()\n",
    "obj.land()\n",
    "obj.car()\n",
    "obj.bike()"
   ]
  },
  {
   "cell_type": "code",
   "execution_count": 53,
   "metadata": {},
   "outputs": [
    {
     "name": "stdout",
     "output_type": "stream",
     "text": [
      "CAR\n",
      "House\n",
      "Land\n"
     ]
    },
    {
     "ename": "AttributeError",
     "evalue": "'child1' object has no attribute 'bike'",
     "output_type": "error",
     "traceback": [
      "\u001b[1;31m---------------------------------------------------------------------------\u001b[0m",
      "\u001b[1;31mAttributeError\u001b[0m                            Traceback (most recent call last)",
      "\u001b[1;32m~\\AppData\\Local\\Temp\\ipykernel_21944\\1939196631.py\u001b[0m in \u001b[0;36m<module>\u001b[1;34m\u001b[0m\n\u001b[0;32m      3\u001b[0m \u001b[0mobj2\u001b[0m\u001b[1;33m.\u001b[0m\u001b[0mhouse\u001b[0m\u001b[1;33m(\u001b[0m\u001b[1;33m)\u001b[0m\u001b[1;33m\u001b[0m\u001b[1;33m\u001b[0m\u001b[0m\n\u001b[0;32m      4\u001b[0m \u001b[0mobj2\u001b[0m\u001b[1;33m.\u001b[0m\u001b[0mland\u001b[0m\u001b[1;33m(\u001b[0m\u001b[1;33m)\u001b[0m\u001b[1;33m\u001b[0m\u001b[1;33m\u001b[0m\u001b[0m\n\u001b[1;32m----> 5\u001b[1;33m \u001b[0mobj2\u001b[0m\u001b[1;33m.\u001b[0m\u001b[0mbike\u001b[0m\u001b[1;33m(\u001b[0m\u001b[1;33m)\u001b[0m\u001b[1;33m\u001b[0m\u001b[1;33m\u001b[0m\u001b[0m\n\u001b[0m",
      "\u001b[1;31mAttributeError\u001b[0m: 'child1' object has no attribute 'bike'"
     ]
    }
   ],
   "source": [
    "obj2 = child1()\n",
    "obj2.car()\n",
    "obj2.house()\n",
    "obj2.land()\n",
    "obj2.bike()"
   ]
  },
  {
   "cell_type": "code",
   "execution_count": 54,
   "metadata": {},
   "outputs": [],
   "source": [
    "# Hybrid Inheritance :  When we use more than 1 type of inheritance then it is called as Hybrid Inheritance. \n",
    "\n",
    "class grand_parent:\n",
    "    def fun1(self):\n",
    "        print(\"Function 1 of grand parent class\")\n",
    "\n",
    "    def fun2(self):\n",
    "        print(\"Function 2 of Grand parent class\")\n",
    "\n",
    "class father(grand_parent):\n",
    "    def house(self):\n",
    "        print(\"House\")\n",
    "\n",
    "    def car(self):\n",
    "        print(\"car\")\n",
    "\n",
    "\n",
    "class mother(grand_parent):\n",
    "    def jwellery(self):\n",
    "        print(\"Jwellery\")\n",
    "\n",
    "\n",
    "class child(father, mother):\n",
    "    def bike(self):\n",
    "        print(\"Bike\")\n",
    "\n",
    "\n",
    "    "
   ]
  }
 ],
 "metadata": {
  "kernelspec": {
   "display_name": "base",
   "language": "python",
   "name": "python3"
  },
  "language_info": {
   "codemirror_mode": {
    "name": "ipython",
    "version": 3
   },
   "file_extension": ".py",
   "mimetype": "text/x-python",
   "name": "python",
   "nbconvert_exporter": "python",
   "pygments_lexer": "ipython3",
   "version": "3.9.13"
  }
 },
 "nbformat": 4,
 "nbformat_minor": 2
}
