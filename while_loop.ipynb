{
 "cells": [
  {
   "cell_type": "markdown",
   "metadata": {},
   "source": [
    "While loop : while loop is used to iterate through certain block of code till a certain condition is getting satisfied. "
   ]
  },
  {
   "cell_type": "code",
   "execution_count": null,
   "metadata": {},
   "outputs": [],
   "source": [
    "# Program to iterate through a list using while loop\n",
    "\n",
    "lst = [10,20,30,40,50,60,70,80]\n",
    "length = len(lst)\n",
    "# print(f\"Length of list is : {length}\")\n",
    "pointer = 0\n",
    "while pointer < length:\n",
    "    print(f\"Pointer : {pointer}\")\n",
    "    print(f\"lst[{pointer}] is : {lst[pointer]} \")\n",
    "    # pointer+=1\n"
   ]
  },
  {
   "cell_type": "code",
   "execution_count": null,
   "metadata": {},
   "outputs": [],
   "source": [
    "name = \"Rahul\"\n",
    "string1 = f\"The name of student is {name}\"\n",
    "print(string1)"
   ]
  },
  {
   "cell_type": "code",
   "execution_count": null,
   "metadata": {},
   "outputs": [],
   "source": [
    "# make a string and iterate through it using while loop. \n",
    "\n",
    "name = \"edyoda\"\n",
    "lenght = len(name)\n",
    "i = 0 \n",
    "while i < lenght :\n",
    "    print(name[i])\n",
    "    i+=1"
   ]
  },
  {
   "cell_type": "code",
   "execution_count": null,
   "metadata": {},
   "outputs": [],
   "source": [
    "string=\"python\"\n",
    "pointer=0\n",
    "while pointer <len(string):\n",
    "    # print(pointer)\n",
    "    print(string[pointer], end = \" \")\n",
    "    pointer=pointer+1"
   ]
  },
  {
   "cell_type": "code",
   "execution_count": null,
   "metadata": {},
   "outputs": [],
   "source": [
    "# write a program to print the string in reverse order. \n",
    "e.g Input : \"PYTHON\"\n",
    "Output : \"NOHTYP\""
   ]
  },
  {
   "cell_type": "code",
   "execution_count": null,
   "metadata": {},
   "outputs": [],
   "source": [
    "# WRITE A PROGRAM TO PRINT ALL MULTIPLES OF 5 WHICH ARE LESS THAN 100 USING WHILE LOOP : \n",
    "\n",
    "# 5,10,15,20,25,30.....90,95,100\n",
    "\n",
    "range = 100\n",
    "i = 5\n",
    "while i<range:\n",
    "    print(i, end = \" , \")\n",
    "    i+=5"
   ]
  },
  {
   "cell_type": "code",
   "execution_count": null,
   "metadata": {},
   "outputs": [],
   "source": [
    "range = 100\n",
    "i = 1\n",
    "while i<range:\n",
    "    if i%5 == 0:\n",
    "        print(i,end = \" , \")\n",
    "    i+=1"
   ]
  },
  {
   "cell_type": "code",
   "execution_count": null,
   "metadata": {},
   "outputs": [],
   "source": [
    "for j in range(5,100,5):\n",
    "    print(j,end = \" \")"
   ]
  },
  {
   "cell_type": "code",
   "execution_count": null,
   "metadata": {},
   "outputs": [],
   "source": [
    "# Number guessing game :\n",
    "import random\n",
    "\n",
    "number = random.randint(30,40)\n",
    "while True:\n",
    "    guess = int(input(\"Choose a number between 30 and 40 : \"))\n",
    "    if guess == number:\n",
    "        print(\"Well Played !!! You Guessed it correct\")\n",
    "        break\n",
    "    else:\n",
    "        print(\"Oops !!! You Guessed it wrong\")\n",
    "        choice = int(input(\"Press 1 to play again or any other key to exit the Game\"))\n",
    "        if choice != 1:\n",
    "            print(\"Game Over!!! Better Luck Next Time\")\n",
    "            break"
   ]
  },
  {
   "cell_type": "code",
   "execution_count": null,
   "metadata": {},
   "outputs": [],
   "source": [
    "# Number guessing game :\n",
    "number = 35\n",
    "while True:\n",
    "    guess = int(input(\"Choose a number between 30 and 40 : \"))\n",
    "    if guess == number:\n",
    "        print(\"Well Played !!! You Guessed it correct\")\n",
    "        break\n",
    "    else:\n",
    "        if guess <30 and guess >50:\n",
    "            print(\"You guess beyond the given range\")\n",
    "\n",
    "        else:\n",
    "            print(\"Oops !!! You Guessed it wrong\")\n",
    "            \n",
    "        choice = int(input(\"Press 1 to play again or any other key to exit the Game\"))\n",
    "        if choice != 1:\n",
    "            print(\"Game Over!!! Better Luck Next Time\")\n",
    "            break"
   ]
  },
  {
   "cell_type": "code",
   "execution_count": null,
   "metadata": {},
   "outputs": [],
   "source": [
    "lst = [1,2,\"Python\",[10,20,30],{4,5,6},{1:\"One\",2:\"two\"}]\n",
    "1\n",
    "2\n",
    "\"Python\"\n",
    "[10,20,30] -----> 10,20,30\n",
    "{1,2,\"Python\"}   \n",
    "{1:\"One\",2:\"two\"}  ---> (1:\"One\"), (2 : \"two\")"
   ]
  },
  {
   "cell_type": "code",
   "execution_count": null,
   "metadata": {},
   "outputs": [],
   "source": [
    "# Write a program to print first 15 multiples of 3 and 5 \n",
    "count = 0\n",
    "number = 1\n",
    "\n",
    "while count < 15:\n",
    "    if number % 3 == 0 and number % 5 == 0:\n",
    "        print(number,end = \" , \")\n",
    "        count += 1\n",
    "    number += 1"
   ]
  },
  {
   "cell_type": "code",
   "execution_count": null,
   "metadata": {},
   "outputs": [],
   "source": [
    "# create a list by taking user Input : "
   ]
  },
  {
   "cell_type": "code",
   "execution_count": null,
   "metadata": {},
   "outputs": [],
   "source": [
    "# append()\n",
    "lst = [1,2,3,4]\n",
    "lst.append(10)\n",
    "\n",
    "# split()\n",
    "string1 = \"1234567\"\n",
    "string1.split()\n",
    "[\"1\",\"2\",\"3\",\"4\",\"5\",\"6\",\"7\"]"
   ]
  },
  {
   "cell_type": "code",
   "execution_count": null,
   "metadata": {},
   "outputs": [],
   "source": [
    "# 1. for a definite number of elements using for loop\n",
    "\n",
    "lst = []\n",
    "length = int(input(\"Enter the length of list : \"))\n",
    "for i in range(length):\n",
    "    element = int(input(\"Enter the element  \"))\n",
    "    lst.append(element)\n",
    "\n",
    "print(lst)\n"
   ]
  },
  {
   "cell_type": "code",
   "execution_count": null,
   "metadata": {},
   "outputs": [],
   "source": [
    "# 2. Using while loop for infinite number of elements\n",
    "\n",
    "lst = []\n",
    "while True:\n",
    "    element = int(input(\"Enter the element : \"))\n",
    "    lst.append(element)\n",
    "    choice = int(input(\"Enter 1 to add more elements to the list or any other key to exit\"))\n",
    "    if choice != 1:\n",
    "        break\n",
    "\n",
    "print(lst)"
   ]
  },
  {
   "cell_type": "code",
   "execution_count": null,
   "metadata": {},
   "outputs": [],
   "source": [
    "lst = input(\"Enter the elements of list seperated by comma\").split(\",\")\n",
    "print(lst)"
   ]
  }
 ],
 "metadata": {
  "kernelspec": {
   "display_name": "base",
   "language": "python",
   "name": "python3"
  },
  "language_info": {
   "name": "python",
   "version": "3.9.13"
  }
 },
 "nbformat": 4,
 "nbformat_minor": 2
}
