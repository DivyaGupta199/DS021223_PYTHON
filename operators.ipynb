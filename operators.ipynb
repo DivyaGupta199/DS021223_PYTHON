{
 "cells": [
  {
   "cell_type": "markdown",
   "metadata": {},
   "source": [
    "Operators : operators are used to perform certain task/ operations. The values on which we perform the operation are called operands, and the task we are performing on them is represented by these operators. \n",
    "\n",
    "Types of operators : \n",
    "1. Mathematical/ Arithmetic operators : Arithmetic operators are used to perform mathematical operation like addition, substraction etc.\n",
    "    1. Addition (+)\n",
    "    2. Substraction (-)\n",
    "    3. Multiplication (*)\n",
    "    4. Division (/)\n",
    "    5. Floor Division (//)\n",
    "    6. Modulus (%)\n",
    "    7. exponent (**)\n",
    "\n",
    "2. Assignment operator (=): Assignment operators are used to assign some value. \n",
    " e.g = , +=, -=, *=, /=, //=, %=, **=\n",
    "\n",
    "3. Comparision operators : These are used for comparision of two values/variables\n",
    "    1. Equal equal to (==) : It returns True if the two values are equal else it return False\n",
    "    2. Not Equal to (!=) : It returns True if the first value is not equal to second else it return False\n",
    "    3. Greater than (>) : It returns True if the first value is greater than second else False\n",
    "    4. Less than (<) : It returns True if the first value is smaller than second else False\n",
    "    5. Greater than or equal to (>=) : It returns True if the first value is either greater or equal to second value else it will return False\n",
    "    6. Less than or equal to ( <= ) : It returns True if the first value is either less than or equal to second value else it will return False\n",
    "\n",
    "\n",
    "4. Logical operators : \n",
    "    1. AND : It is used to check multiple conditions at a time and all the conditions should get satisfied. \n",
    "    2. OR : It is used to check multiple conditions at a time and atleast one of the given conditions should get satisfied.\n",
    "    3. NOT : It reverse the output\n",
    "\n",
    "5. Identity Operators : \n",
    "    1. is \n",
    "    2. is not\n",
    "    \n",
    "\n",
    "6. Membership operators : \n",
    "    1. in\n",
    "    2. not in \n",
    "\n",
    "7. Bitwise operators : It is used to work with bits, it is used on integer values, which gets firstly converted to their binary form and then the bitwise operation is performed on them.\n",
    "\n",
    "    1. Bitwise AND OPERATOR - &\n",
    "    2. Bitwise OR OPERATOR  - |\n",
    "    3. Bitwise NOT OPERATOR - ~\n",
    "    4. Bitwise XOR OPERATOR - ^\n",
    "\n",
    "\n",
    "    "
   ]
  },
  {
   "cell_type": "code",
   "execution_count": 1,
   "metadata": {},
   "outputs": [
    {
     "data": {
      "text/plain": [
       "120"
      ]
     },
     "execution_count": 1,
     "metadata": {},
     "output_type": "execute_result"
    }
   ],
   "source": [
    "# Addition\n",
    "num1 = 100\n",
    "num2 = 20\n",
    "result = num1 + num2\n",
    "result"
   ]
  },
  {
   "cell_type": "code",
   "execution_count": 2,
   "metadata": {},
   "outputs": [
    {
     "data": {
      "text/plain": [
       "80"
      ]
     },
     "execution_count": 2,
     "metadata": {},
     "output_type": "execute_result"
    }
   ],
   "source": [
    "# Substraction\n",
    "num1 = 100\n",
    "num2 = 20\n",
    "result = num1 - num2\n",
    "result"
   ]
  },
  {
   "cell_type": "code",
   "execution_count": 3,
   "metadata": {},
   "outputs": [
    {
     "data": {
      "text/plain": [
       "2000"
      ]
     },
     "execution_count": 3,
     "metadata": {},
     "output_type": "execute_result"
    }
   ],
   "source": [
    "# multiplication\n",
    "num1 = 100\n",
    "num2 = 20\n",
    "result = num1 * num2\n",
    "result"
   ]
  },
  {
   "cell_type": "code",
   "execution_count": 6,
   "metadata": {},
   "outputs": [
    {
     "data": {
      "text/plain": [
       "5.5"
      ]
     },
     "execution_count": 6,
     "metadata": {},
     "output_type": "execute_result"
    }
   ],
   "source": [
    "# Division\n",
    "num1 = 110\n",
    "num2 = 20\n",
    "result = num1 / num2\n",
    "result"
   ]
  },
  {
   "cell_type": "code",
   "execution_count": 11,
   "metadata": {},
   "outputs": [
    {
     "data": {
      "text/plain": [
       "9"
      ]
     },
     "execution_count": 11,
     "metadata": {},
     "output_type": "execute_result"
    }
   ],
   "source": [
    "# Floor Division\n",
    "num1 = 39\n",
    "num2 = 4\n",
    "result = num1 // num2\n",
    "result"
   ]
  },
  {
   "cell_type": "code",
   "execution_count": 8,
   "metadata": {},
   "outputs": [
    {
     "data": {
      "text/plain": [
       "10"
      ]
     },
     "execution_count": 8,
     "metadata": {},
     "output_type": "execute_result"
    }
   ],
   "source": [
    "# Modulus \n",
    "num1 = 110\n",
    "num2 = 20\n",
    "result = num1 % num2\n",
    "result"
   ]
  },
  {
   "cell_type": "code",
   "execution_count": 14,
   "metadata": {},
   "outputs": [
    {
     "data": {
      "text/plain": [
       "81"
      ]
     },
     "execution_count": 14,
     "metadata": {},
     "output_type": "execute_result"
    }
   ],
   "source": [
    "# exponent (**)\n",
    "base = 3\n",
    "power = 4\n",
    "exponent = base ** power\n",
    "exponent\n"
   ]
  },
  {
   "cell_type": "code",
   "execution_count": 21,
   "metadata": {},
   "outputs": [
    {
     "name": "stdout",
     "output_type": "stream",
     "text": [
      "130\n",
      "100\n",
      "500\n",
      "10.0\n",
      "3.0\n"
     ]
    },
    {
     "data": {
      "text/plain": [
       "1.0"
      ]
     },
     "execution_count": 21,
     "metadata": {},
     "output_type": "execute_result"
    }
   ],
   "source": [
    "# Assignment operator \n",
    "number = 100\n",
    "# number = number - 30\n",
    "number +=30\n",
    "print(number)\n",
    "\n",
    "number -=30\n",
    "print(number)\n",
    "\n",
    "number *=5\n",
    "print(number)\n",
    "\n",
    "number /= 50\n",
    "print(number)\n",
    "\n",
    "number //=3\n",
    "print(number)\n",
    "\n",
    "number %= 2\n",
    "number\n",
    "\n"
   ]
  },
  {
   "cell_type": "code",
   "execution_count": 22,
   "metadata": {},
   "outputs": [
    {
     "data": {
      "text/plain": [
       "16"
      ]
     },
     "execution_count": 22,
     "metadata": {},
     "output_type": "execute_result"
    }
   ],
   "source": [
    "number = 2\n",
    "# number = number ** 4\n",
    "number **= 4\n",
    "number"
   ]
  },
  {
   "cell_type": "code",
   "execution_count": 24,
   "metadata": {},
   "outputs": [
    {
     "name": "stdout",
     "output_type": "stream",
     "text": [
      "True\n"
     ]
    }
   ],
   "source": [
    "# comparision operators : \n",
    "# 1. Equal equal to (==) \n",
    "\n",
    "number1 = 100\n",
    "number2 = 200\n",
    "\n",
    "print(number1 == 100)"
   ]
  },
  {
   "cell_type": "code",
   "execution_count": 25,
   "metadata": {},
   "outputs": [
    {
     "name": "stdout",
     "output_type": "stream",
     "text": [
      "False\n"
     ]
    }
   ],
   "source": [
    "# 2. Not equal to (!=)\n",
    "\n",
    "number1 = 100\n",
    "number2 = 200\n",
    "\n",
    "print(number1 != 100)"
   ]
  },
  {
   "cell_type": "code",
   "execution_count": 26,
   "metadata": {},
   "outputs": [
    {
     "name": "stdout",
     "output_type": "stream",
     "text": [
      "False\n"
     ]
    }
   ],
   "source": [
    "# 3. Greater than (>)\n",
    "\n",
    "number1 = 100\n",
    "number2 = 200\n",
    "\n",
    "print(number1 > number2)"
   ]
  },
  {
   "cell_type": "code",
   "execution_count": 27,
   "metadata": {},
   "outputs": [
    {
     "name": "stdout",
     "output_type": "stream",
     "text": [
      "True\n"
     ]
    }
   ],
   "source": [
    "# 4. Less than (<)\n",
    "\n",
    "number1 = 100\n",
    "number2 = 200\n",
    "\n",
    "print(number1 < number2)"
   ]
  },
  {
   "cell_type": "code",
   "execution_count": 28,
   "metadata": {},
   "outputs": [
    {
     "name": "stdout",
     "output_type": "stream",
     "text": [
      "False\n"
     ]
    }
   ],
   "source": [
    "# 5. Greater than or equal to (>=) \n",
    "\n",
    "number1 = 100\n",
    "number2 = 200\n",
    "\n",
    "print(number1 >= number2)\n",
    "\n",
    "# either number1> number2 or number1 == number2"
   ]
  },
  {
   "cell_type": "code",
   "execution_count": 32,
   "metadata": {},
   "outputs": [
    {
     "data": {
      "text/plain": [
       "False"
      ]
     },
     "execution_count": 32,
     "metadata": {},
     "output_type": "execute_result"
    }
   ],
   "source": [
    "# 6. Less than or equal to (<=) \n",
    "\n",
    "number1 = 100\n",
    "number2 = 40\n",
    "\n",
    "number1 <= number2"
   ]
  },
  {
   "cell_type": "markdown",
   "metadata": {},
   "source": [
    "# Logical operators : \n"
   ]
  },
  {
   "cell_type": "code",
   "execution_count": 6,
   "metadata": {},
   "outputs": [
    {
     "data": {
      "text/plain": [
       "True"
      ]
     },
     "execution_count": 6,
     "metadata": {},
     "output_type": "execute_result"
    }
   ],
   "source": [
    "# AND OPERATOR : \n",
    "variable1 = 100\n",
    "variable2 = 50\n",
    "variable3 = 300\n",
    "\n",
    "variable1 > 50 and variable2 > 20 and variable3 > 100\n",
    "# true              false"
   ]
  },
  {
   "cell_type": "code",
   "execution_count": 4,
   "metadata": {},
   "outputs": [
    {
     "data": {
      "text/plain": [
       "False"
      ]
     },
     "execution_count": 4,
     "metadata": {},
     "output_type": "execute_result"
    }
   ],
   "source": [
    "# OR Operator : \n",
    "variable1 = 100\n",
    "variable2 = 50\n",
    "\n",
    "variable1 > 100 or variable2 > 100\n",
    "# false              false"
   ]
  },
  {
   "cell_type": "code",
   "execution_count": 7,
   "metadata": {},
   "outputs": [
    {
     "data": {
      "text/plain": [
       "True"
      ]
     },
     "execution_count": 7,
     "metadata": {},
     "output_type": "execute_result"
    }
   ],
   "source": [
    "# NOT OPERATOR\n",
    "variable1 = 100\n",
    "variable2 = 50\n",
    "\n",
    "not(variable1 > 100 or variable2 > 100)\n",
    "\n"
   ]
  },
  {
   "cell_type": "code",
   "execution_count": 8,
   "metadata": {},
   "outputs": [
    {
     "name": "stdout",
     "output_type": "stream",
     "text": [
      "True\n"
     ]
    }
   ],
   "source": [
    "var1 = 100\n",
    "var2 = 150\n",
    "print(var1 > 50 and var2 > 50) "
   ]
  },
  {
   "cell_type": "code",
   "execution_count": 13,
   "metadata": {},
   "outputs": [
    {
     "name": "stdout",
     "output_type": "stream",
     "text": [
      "False\n"
     ]
    }
   ],
   "source": [
    "# Membership operator : \n",
    "# 1. is\n",
    "\n",
    "a = 100\n",
    "b = 200\n",
    "\n",
    "print(a is b)"
   ]
  },
  {
   "cell_type": "code",
   "execution_count": 14,
   "metadata": {},
   "outputs": [
    {
     "name": "stdout",
     "output_type": "stream",
     "text": [
      "True\n"
     ]
    }
   ],
   "source": [
    "# 2. is not\n",
    "\n",
    "a = 100\n",
    "b = 200\n",
    "\n",
    "print(a is not b)"
   ]
  },
  {
   "cell_type": "code",
   "execution_count": 18,
   "metadata": {},
   "outputs": [
    {
     "data": {
      "text/plain": [
       "False"
      ]
     },
     "execution_count": 18,
     "metadata": {},
     "output_type": "execute_result"
    }
   ],
   "source": [
    "# Membership operator : \n",
    "# 1. in\n",
    "lst = [\"a\",\"b\",\"c\",\"d\",\"e\"]\n",
    "value = \"p\"\n",
    "\n",
    "value in lst"
   ]
  },
  {
   "cell_type": "code",
   "execution_count": 21,
   "metadata": {},
   "outputs": [
    {
     "data": {
      "text/plain": [
       "True"
      ]
     },
     "execution_count": 21,
     "metadata": {},
     "output_type": "execute_result"
    }
   ],
   "source": [
    "# 2. not in\n",
    "\n",
    "tuple1 = (\"string\",True, 20, 30.15, [1,2,3,4,5],100)\n",
    "value = 200\n",
    "value not in tuple1"
   ]
  },
  {
   "cell_type": "code",
   "execution_count": 22,
   "metadata": {},
   "outputs": [
    {
     "data": {
      "text/plain": [
       "0"
      ]
     },
     "execution_count": 22,
     "metadata": {},
     "output_type": "execute_result"
    }
   ],
   "source": [
    "# Bitwise operators : \n",
    "# 1. Bitwise AND Operator\n",
    "\n",
    "a = 10\n",
    "b = 5\n",
    "\n",
    "a & b "
   ]
  },
  {
   "cell_type": "code",
   "execution_count": 23,
   "metadata": {},
   "outputs": [
    {
     "data": {
      "text/plain": [
       "15"
      ]
     },
     "execution_count": 23,
     "metadata": {},
     "output_type": "execute_result"
    }
   ],
   "source": [
    "# 2. Bitwise OR Operator\n",
    "\n",
    "a = 10\n",
    "b = 5\n",
    "\n",
    "a | b "
   ]
  },
  {
   "cell_type": "code",
   "execution_count": 24,
   "metadata": {},
   "outputs": [
    {
     "data": {
      "text/plain": [
       "-1"
      ]
     },
     "execution_count": 24,
     "metadata": {},
     "output_type": "execute_result"
    }
   ],
   "source": [
    "# Bitwise NOT Operator \n",
    "a = 10\n",
    "b = 5\n",
    "\n",
    "~(a & b)"
   ]
  },
  {
   "cell_type": "code",
   "execution_count": 28,
   "metadata": {},
   "outputs": [
    {
     "data": {
      "text/plain": [
       "'0b1100100'"
      ]
     },
     "execution_count": 28,
     "metadata": {},
     "output_type": "execute_result"
    }
   ],
   "source": [
    "value = 100\n",
    "binary = bin(value)\n",
    "binary"
   ]
  }
 ],
 "metadata": {
  "kernelspec": {
   "display_name": "base",
   "language": "python",
   "name": "python3"
  },
  "language_info": {
   "codemirror_mode": {
    "name": "ipython",
    "version": 3
   },
   "file_extension": ".py",
   "mimetype": "text/x-python",
   "name": "python",
   "nbconvert_exporter": "python",
   "pygments_lexer": "ipython3",
   "version": "3.9.13"
  }
 },
 "nbformat": 4,
 "nbformat_minor": 2
}
