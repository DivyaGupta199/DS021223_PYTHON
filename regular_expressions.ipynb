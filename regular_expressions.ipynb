{
 "cells": [
  {
   "cell_type": "markdown",
   "metadata": {},
   "source": [
    "Regular expression : "
   ]
  },
  {
   "cell_type": "code",
   "execution_count": 1,
   "metadata": {},
   "outputs": [],
   "source": [
    "import re"
   ]
  },
  {
   "cell_type": "markdown",
   "metadata": {},
   "source": [
    "# Functions : \n",
    "1. findall() : findall function is used to search the pattern in the string and it returns a list of all the matching substrings. \n",
    "2. search() : search function is used to search the pattern in the string and it returns a match object containing the match value with index details.\n",
    "3. split() : split function is used to split the string at every match and it returns a list of substrings. \n",
    "4. sub() : This method is used to substitute the match pattern with the new string.\n",
    "\n"
   ]
  },
  {
   "cell_type": "code",
   "execution_count": 3,
   "metadata": {},
   "outputs": [
    {
     "name": "stdout",
     "output_type": "stream",
     "text": [
      "['language', 'language']\n"
     ]
    }
   ],
   "source": [
    "string = \"Python is an object oriented programming language. This language was developed by Guido van rossam\"\n",
    "pattern = \"language\"\n",
    "lst = re.findall(pattern, string)\n",
    "print(lst)"
   ]
  },
  {
   "cell_type": "code",
   "execution_count": 4,
   "metadata": {},
   "outputs": [
    {
     "name": "stdout",
     "output_type": "stream",
     "text": [
      "<re.Match object; span=(41, 49), match='language'>\n"
     ]
    }
   ],
   "source": [
    "string = \"Python is an object oriented programming language. This language was developed by Guido van rossam\"\n",
    "pattern = \"language\"\n",
    "lst = re.search(pattern, string)\n",
    "print(lst)"
   ]
  },
  {
   "cell_type": "code",
   "execution_count": 6,
   "metadata": {},
   "outputs": [
    {
     "name": "stdout",
     "output_type": "stream",
     "text": [
      "['Python', 'is', 'an', 'object', 'oriented', 'programming', 'language.', 'This', 'language', 'was', 'developed', 'by', 'Guido', 'van', 'rossam']\n"
     ]
    }
   ],
   "source": [
    "string = \"Python is an object oriented programming language. This language was developed by Guido van rossam\"\n",
    "pattern = \" \"\n",
    "lst = re.split(pattern, string)\n",
    "print(lst)"
   ]
  },
  {
   "cell_type": "code",
   "execution_count": 8,
   "metadata": {},
   "outputs": [
    {
     "name": "stdout",
     "output_type": "stream",
     "text": [
      "Python-is-an-object-oriented-programming language. This language was developed by Guido van rossam\n"
     ]
    }
   ],
   "source": [
    "string = \"Python is an object oriented programming language. This language was developed by Guido van rossam\"\n",
    "pattern = \" \"\n",
    "new_string = \"-\"\n",
    "lst = re.sub(pattern, new_string, string,5)\n",
    "print(lst)"
   ]
  },
  {
   "cell_type": "markdown",
   "metadata": {},
   "source": [
    "# Metacharacters : This are the characters having special meaning.\n",
    "1. \"[]\" - A set of characters e.g [a-h],[0-7]\n",
    "2. \"\\\" - A special sequence e.g \\d\n",
    "3. \".\" - It represents a character.\n",
    "4. \"^\" - starts with\n",
    "5. \"$\" - ends with\n",
    "6. {} - used to specify the exact number of characters. \n",
    "7. \".*\" - zero or more characters\n",
    "8. \".+\" - one or more characters\n",
    "9. | - either or"
   ]
  },
  {
   "cell_type": "code",
   "execution_count": 9,
   "metadata": {},
   "outputs": [
    {
     "name": "stdout",
     "output_type": "stream",
     "text": [
      "['a', 'b', 'e', 'c', 'e', 'e', 'd', 'a', 'a', 'a', 'e', 'a', 'a', 'e', 'a', 'd', 'e', 'e', 'e', 'd', 'b', 'd', 'a', 'a']\n"
     ]
    }
   ],
   "source": [
    "string = \"Python is an object oriented programming language. This language was developed by Guido van rossam\"\n",
    "pattern = '[a-f]'\n",
    "lst = re.findall(pattern, string)\n",
    "print(lst)"
   ]
  },
  {
   "cell_type": "code",
   "execution_count": 11,
   "metadata": {},
   "outputs": [
    {
     "name": "stdout",
     "output_type": "stream",
     "text": [
      "['2', '8', '1', '7', '6', '4']\n"
     ]
    }
   ],
   "source": [
    "string = \"Python is an object oriented programming language. This language was developed by Guido van rossam 281764\"\n",
    "pattern = '\\d'\n",
    "lst = re.findall(pattern, string)\n",
    "print(lst)"
   ]
  },
  {
   "cell_type": "code",
   "execution_count": 13,
   "metadata": {},
   "outputs": [
    {
     "name": "stdout",
     "output_type": "stream",
     "text": [
      "['Python']\n"
     ]
    }
   ],
   "source": [
    "string = \"Python is an object oriented programming language. This language was developed by Guido van rossam 281764\"\n",
    "pattern = 'P....n'\n",
    "lst = re.findall(pattern, string)\n",
    "print(lst)"
   ]
  },
  {
   "cell_type": "code",
   "execution_count": 19,
   "metadata": {},
   "outputs": [
    {
     "name": "stdout",
     "output_type": "stream",
     "text": [
      "['Python']\n"
     ]
    }
   ],
   "source": [
    "string = \"Python is an object oriented programming language. This language was developed by Guido van rossam 281764\"\n",
    "pattern = '^Python'\n",
    "lst = re.findall(pattern, string)\n",
    "print(lst)"
   ]
  },
  {
   "cell_type": "code",
   "execution_count": 23,
   "metadata": {},
   "outputs": [
    {
     "name": "stdout",
     "output_type": "stream",
     "text": [
      "['281764']\n"
     ]
    }
   ],
   "source": [
    "string = \"Python is an object oriented programming language. This language was developed by Guido van rossam 281764\"\n",
    "pattern = '\\d{6}$'\n",
    "lst = re.findall(pattern, string)\n",
    "print(lst)"
   ]
  },
  {
   "cell_type": "code",
   "execution_count": 28,
   "metadata": {},
   "outputs": [
    {
     "name": "stdout",
     "output_type": "stream",
     "text": [
      "['objec']\n"
     ]
    }
   ],
   "source": [
    "string = \"Python is an object oriented programming language. This language was developed by Guido van rossam 281764\"\n",
    "pattern = 'obj.*c'\n",
    "lst = re.findall(pattern, string)\n",
    "print(lst)"
   ]
  },
  {
   "cell_type": "code",
   "execution_count": 30,
   "metadata": {},
   "outputs": [
    {
     "name": "stdout",
     "output_type": "stream",
     "text": [
      "['Python is an object oriented programming language. This language was developed by']\n"
     ]
    }
   ],
   "source": [
    "string = \"Python is an object oriented programming language. This language was developed by Guido van rossam 281764\"\n",
    "pattern = 'P.+y'\n",
    "lst = re.findall(pattern, string)\n",
    "print(lst)"
   ]
  },
  {
   "cell_type": "code",
   "execution_count": 32,
   "metadata": {},
   "outputs": [
    {
     "name": "stdout",
     "output_type": "stream",
     "text": [
      "['Python']\n"
     ]
    }
   ],
   "source": [
    "string = \"Python is an object oriented programming language. This language was developed by Guido van rossam 281764\"\n",
    "pattern = 'Python|java'\n",
    "lst = re.findall(pattern, string)\n",
    "print(lst)"
   ]
  },
  {
   "cell_type": "markdown",
   "metadata": {},
   "source": [
    "# sets : \n",
    "1. [aeiou] - Returns a match if any of the specified characters are found. \n",
    "2. [n-z] - returns a match if any of the characters between given range is found. \n",
    "3. [^AEIOU] - returns a match if any character except A,E,I,O,U is found.\n",
    "4. [12345] - Returns a match if any of the specified digits are found. \n",
    "5. [2-6] - returns a match if any of the digit between given range is found. \n",
    "6. [1-5][0-9] - returns a match if any of the two digit number between 10-59 is found.\n",
    "7. [a-zA-Z] - returns a match if any of the uppercase or lowercase alphabetic character is found.\n"
   ]
  },
  {
   "cell_type": "code",
   "execution_count": 33,
   "metadata": {},
   "outputs": [
    {
     "name": "stdout",
     "output_type": "stream",
     "text": [
      "['o', 'i', 'a', 'o', 'e', 'o', 'i', 'e', 'e', 'o', 'a', 'i', 'a', 'u', 'a', 'e', 'i', 'a', 'u', 'a', 'e', 'a', 'e', 'e', 'o', 'e', 'u', 'i', 'o', 'a', 'o', 'a']\n"
     ]
    }
   ],
   "source": [
    "string = \"Python is an object oriented programming language. This language was developed by Guido van rossam 281764\"\n",
    "pattern = '[aeiou]'\n",
    "lst = re.findall(pattern, string)\n",
    "print(lst)"
   ]
  },
  {
   "cell_type": "code",
   "execution_count": 37,
   "metadata": {},
   "outputs": [
    {
     "name": "stdout",
     "output_type": "stream",
     "text": [
      "['P', 'T', 'G']\n"
     ]
    }
   ],
   "source": [
    "string = \"Python is an object oriented programming language. This language was developed by Guido van rossam 281764\"\n",
    "pattern = '[A-Z]'\n",
    "lst = re.findall(pattern, string)\n",
    "print(lst)"
   ]
  },
  {
   "cell_type": "code",
   "execution_count": 38,
   "metadata": {},
   "outputs": [
    {
     "name": "stdout",
     "output_type": "stream",
     "text": [
      "['P', ' ', ' ', ' ', ' ', ' ', ' ', '.', ' ', 'T', ' ', ' ', ' ', ' ', ' ', 'G', ' ', ' ', ' ', '2', '8', '1', '7', '6', '4']\n"
     ]
    }
   ],
   "source": [
    "string = \"Python is an object oriented programming language. This language was developed by Guido van rossam 281764\"\n",
    "pattern = '[^a-z]'\n",
    "lst = re.findall(pattern, string)\n",
    "print(lst)"
   ]
  },
  {
   "cell_type": "code",
   "execution_count": 39,
   "metadata": {},
   "outputs": [
    {
     "name": "stdout",
     "output_type": "stream",
     "text": [
      "['2', '1', '4']\n"
     ]
    }
   ],
   "source": [
    "string = \"Python is an object oriented programming language. This language was developed by Guido van rossam 281764\"\n",
    "pattern = '[12345]'\n",
    "lst = re.findall(pattern, string)\n",
    "print(lst)"
   ]
  },
  {
   "cell_type": "code",
   "execution_count": 40,
   "metadata": {},
   "outputs": [
    {
     "name": "stdout",
     "output_type": "stream",
     "text": [
      "['2', '1', '4']\n"
     ]
    }
   ],
   "source": [
    "string = \"Python is an object oriented programming language. This language was developed by Guido van rossam 281764\"\n",
    "pattern = '[1-5]'\n",
    "lst = re.findall(pattern, string)\n",
    "print(lst)"
   ]
  },
  {
   "cell_type": "code",
   "execution_count": 43,
   "metadata": {},
   "outputs": [
    {
     "name": "stdout",
     "output_type": "stream",
     "text": [
      "['817']\n"
     ]
    }
   ],
   "source": [
    "string = \"Python is an object oriented programming language. This language was developed by Guido van rossam 281764\"\n",
    "pattern = '[1-9][0-9][23467]'\n",
    "lst = re.findall(pattern, string)\n",
    "print(lst)"
   ]
  },
  {
   "cell_type": "code",
   "execution_count": 44,
   "metadata": {},
   "outputs": [
    {
     "name": "stdout",
     "output_type": "stream",
     "text": [
      "['Python']\n"
     ]
    }
   ],
   "source": [
    "string = \"Python is an object oriented programming language. This language was developed by Guido van rossam 281764\"\n",
    "pattern = 'P[a-zA-Z]*n'\n",
    "lst = re.findall(pattern, string)\n",
    "print(lst)"
   ]
  },
  {
   "cell_type": "markdown",
   "metadata": {},
   "source": [
    "# Special sequence : \n",
    "1. \"\\A\" - It returns a match if the specified characters are present at the beginning. \n",
    "2. \"\\Z\" - It returns a match if the specified characters are present at the end. \n",
    "3. \"\\d\" - It returns a match if string contains digits.\n",
    "4. \"\\D\" - It returns a match if string contains anything other than digits.\n",
    "5. \"\\b\" - It returns a match if the specified characters are present at the beginning or at the end of any word.\n",
    "6. \"\\B\" - It returns a match if the specified characters are not present at the beginning or at the end of any word.\n",
    "7. \"\\s\" - It returns a match if the string contains space.\n",
    "8. \"\\S\" - It returns a match if the string contains anything except space.\n",
    "9. \"\\w\" - It returns a match if the string contains any word character (alphabet, digit, underscore)\n",
    "10. \"\\W\" - It returns a match if the string contains anything except word character (alphabet, digit, underscore)\n",
    "\n"
   ]
  },
  {
   "cell_type": "code",
   "execution_count": 47,
   "metadata": {},
   "outputs": [
    {
     "name": "stdout",
     "output_type": "stream",
     "text": [
      "['Python']\n"
     ]
    }
   ],
   "source": [
    "string = \"Python is an object oriented programming language. This language was developed by Guido van rossam 281764\"\n",
    "pattern = '\\APython'\n",
    "lst = re.findall(pattern, string)\n",
    "print(lst)"
   ]
  },
  {
   "cell_type": "code",
   "execution_count": 48,
   "metadata": {},
   "outputs": [
    {
     "name": "stdout",
     "output_type": "stream",
     "text": [
      "[]\n"
     ]
    }
   ],
   "source": [
    "string = \"Python is an object oriented programming language. This language was developed by Guido van rossam 281764\"\n",
    "pattern = 'Python\\Z'\n",
    "lst = re.findall(pattern, string)\n",
    "print(lst)"
   ]
  },
  {
   "cell_type": "code",
   "execution_count": 49,
   "metadata": {},
   "outputs": [
    {
     "name": "stdout",
     "output_type": "stream",
     "text": [
      "['P', 'y', 't', 'h', 'o', 'n', ' ', 'i', 's', ' ', 'a', 'n', ' ', 'o', 'b', 'j', 'e', 'c', 't', ' ', 'o', 'r', 'i', 'e', 'n', 't', 'e', 'd', ' ', 'p', 'r', 'o', 'g', 'r', 'a', 'm', 'm', 'i', 'n', 'g', ' ', 'l', 'a', 'n', 'g', 'u', 'a', 'g', 'e', '.', ' ', 'T', 'h', 'i', 's', ' ', 'l', 'a', 'n', 'g', 'u', 'a', 'g', 'e', ' ', 'w', 'a', 's', ' ', 'd', 'e', 'v', 'e', 'l', 'o', 'p', 'e', 'd', ' ', 'b', 'y', ' ', 'G', 'u', 'i', 'd', 'o', ' ', 'v', 'a', 'n', ' ', 'r', 'o', 's', 's', 'a', 'm', ' ']\n"
     ]
    }
   ],
   "source": [
    "string = \"Python is an object oriented programming language. This language was developed by Guido van rossam 281764\"\n",
    "pattern = '\\D'\n",
    "lst = re.findall(pattern, string)\n",
    "print(lst)"
   ]
  },
  {
   "cell_type": "code",
   "execution_count": 55,
   "metadata": {},
   "outputs": [
    {
     "name": "stdout",
     "output_type": "stream",
     "text": [
      "['e', 'e']\n"
     ]
    }
   ],
   "source": [
    "string = \"Python is an object oriented programming language. This language was developed by Guido van rossam 281764\"\n",
    "pattern = r'e\\b'\n",
    "lst = re.findall(pattern, string)\n",
    "print(lst)"
   ]
  },
  {
   "cell_type": "code",
   "execution_count": 57,
   "metadata": {},
   "outputs": [
    {
     "name": "stdout",
     "output_type": "stream",
     "text": [
      "['p']\n"
     ]
    }
   ],
   "source": [
    "string = \"Python is an object oriented programming language. This language was developed by Guido van rossam 281764\"\n",
    "pattern = r'\\Bp'\n",
    "lst = re.findall(pattern, string)\n",
    "print(lst)"
   ]
  },
  {
   "cell_type": "code",
   "execution_count": 58,
   "metadata": {},
   "outputs": [
    {
     "name": "stdout",
     "output_type": "stream",
     "text": [
      "[' ', ' ', ' ', ' ', ' ', ' ', ' ', ' ', ' ', ' ', ' ', ' ', ' ', ' ', ' ']\n"
     ]
    }
   ],
   "source": [
    "string = \"Python is an object oriented programming language. This language was developed by Guido van rossam 281764\"\n",
    "pattern = '\\s'\n",
    "lst = re.findall(pattern, string)\n",
    "print(lst)"
   ]
  },
  {
   "cell_type": "code",
   "execution_count": 59,
   "metadata": {},
   "outputs": [
    {
     "name": "stdout",
     "output_type": "stream",
     "text": [
      "['P', 'y', 't', 'h', 'o', 'n', 'i', 's', 'a', 'n', 'o', 'b', 'j', 'e', 'c', 't', 'o', 'r', 'i', 'e', 'n', 't', 'e', 'd', 'p', 'r', 'o', 'g', 'r', 'a', 'm', 'm', 'i', 'n', 'g', 'l', 'a', 'n', 'g', 'u', 'a', 'g', 'e', '.', 'T', 'h', 'i', 's', 'l', 'a', 'n', 'g', 'u', 'a', 'g', 'e', 'w', 'a', 's', 'd', 'e', 'v', 'e', 'l', 'o', 'p', 'e', 'd', 'b', 'y', 'G', 'u', 'i', 'd', 'o', 'v', 'a', 'n', 'r', 'o', 's', 's', 'a', 'm', '2', '8', '1', '7', '6', '4']\n"
     ]
    }
   ],
   "source": [
    "string = \"Python is an object oriented programming language. This language was developed by Guido van rossam 281764\"\n",
    "pattern = '\\S'\n",
    "lst = re.findall(pattern, string)\n",
    "print(lst)"
   ]
  },
  {
   "cell_type": "code",
   "execution_count": 60,
   "metadata": {},
   "outputs": [
    {
     "name": "stdout",
     "output_type": "stream",
     "text": [
      "['P', 'y', 't', 'h', 'o', 'n', 'i', 's', 'a', 'n', 'o', 'b', 'j', 'e', 'c', 't', 'o', 'r', 'i', 'e', 'n', 't', 'e', 'd', 'p', 'r', 'o', 'g', 'r', 'a', 'm', 'm', 'i', 'n', 'g', 'l', 'a', 'n', 'g', 'u', 'a', 'g', 'e', 'T', 'h', 'i', 's', 'l', 'a', 'n', 'g', 'u', 'a', 'g', 'e', 'w', 'a', 's', 'd', 'e', 'v', 'e', 'l', 'o', 'p', 'e', 'd', 'b', 'y', 'G', 'u', 'i', 'd', 'o', 'v', 'a', 'n', 'r', 'o', 's', 's', 'a', 'm', '2', '8', '1', '7', '6', '4']\n"
     ]
    }
   ],
   "source": [
    "string = \"Python is an object oriented programming language. This language was developed by Guido van rossam 281764\"\n",
    "pattern = '\\w'\n",
    "lst = re.findall(pattern, string)\n",
    "print(lst)"
   ]
  },
  {
   "cell_type": "code",
   "execution_count": 61,
   "metadata": {},
   "outputs": [
    {
     "name": "stdout",
     "output_type": "stream",
     "text": [
      "[' ', ' ', ' ', ' ', ' ', ' ', '.', ' ', ' ', ' ', ' ', ' ', ' ', ' ', ' ', ' ']\n"
     ]
    }
   ],
   "source": [
    "string = \"Python is an object oriented programming language. This language was developed by Guido van rossam 281764\"\n",
    "pattern = '\\W'\n",
    "lst = re.findall(pattern, string)\n",
    "print(lst)"
   ]
  },
  {
   "cell_type": "code",
   "execution_count": null,
   "metadata": {},
   "outputs": [],
   "source": []
  }
 ],
 "metadata": {
  "kernelspec": {
   "display_name": "base",
   "language": "python",
   "name": "python3"
  },
  "language_info": {
   "codemirror_mode": {
    "name": "ipython",
    "version": 3
   },
   "file_extension": ".py",
   "mimetype": "text/x-python",
   "name": "python",
   "nbconvert_exporter": "python",
   "pygments_lexer": "ipython3",
   "version": "3.9.13"
  }
 },
 "nbformat": 4,
 "nbformat_minor": 2
}
