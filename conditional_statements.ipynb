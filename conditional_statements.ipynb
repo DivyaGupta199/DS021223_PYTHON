{
 "cells": [
  {
   "cell_type": "markdown",
   "metadata": {},
   "source": [
    "# Conditional statements : conditional statements are used for checking certain conditions in our program. \n",
    "    1.if \n",
    "    2. if - else\n",
    "    3. if - elif - else"
   ]
  },
  {
   "cell_type": "code",
   "execution_count": 4,
   "metadata": {},
   "outputs": [
    {
     "name": "stdout",
     "output_type": "stream",
     "text": [
      "A is greater than B\n",
      "--------------------------\n"
     ]
    }
   ],
   "source": [
    "a = 30\n",
    "b = 20\n",
    "\n",
    "if a>b:\n",
    "    print(\"A is greater than B\")\n",
    "    print(\"--------------------------\")"
   ]
  },
  {
   "cell_type": "code",
   "execution_count": 6,
   "metadata": {},
   "outputs": [
    {
     "name": "stdout",
     "output_type": "stream",
     "text": [
      "B is greater than A\n"
     ]
    }
   ],
   "source": [
    "a = 10\n",
    "b = 20\n",
    "\n",
    "if a>b:\n",
    "    print(\"A is greater than B\")\n",
    "    print(\"--------------------------\")\n",
    "\n",
    "else:\n",
    "    print(\"B is greater than A\")"
   ]
  },
  {
   "cell_type": "code",
   "execution_count": null,
   "metadata": {},
   "outputs": [],
   "source": [
    "# take a number and check if the number is even or odd \n",
    "\n",
    "number = int(input(\"Enter a number : \"))\n",
    "if number % 2 == 0:\n",
    "    print(\"Even number\")\n",
    "\n",
    "else:\n",
    "    print(\"Odd number\")"
   ]
  },
  {
   "cell_type": "code",
   "execution_count": 9,
   "metadata": {},
   "outputs": [
    {
     "name": "stdout",
     "output_type": "stream",
     "text": [
      "First number is equal to second\n"
     ]
    }
   ],
   "source": [
    "first_number = 150\n",
    "second_number = 150\n",
    "\n",
    "if first_number > second_number :\n",
    "    print(\"First number is greater than second\")\n",
    "\n",
    "elif first_number < second_number:\n",
    "    print(\"First number is smaller than second\")\n",
    "\n",
    "else:\n",
    "    print(\"First number is equal to second\")"
   ]
  },
  {
   "cell_type": "code",
   "execution_count": null,
   "metadata": {},
   "outputs": [],
   "source": [
    "# "
   ]
  },
  {
   "cell_type": "code",
   "execution_count": null,
   "metadata": {},
   "outputs": [],
   "source": []
  },
  {
   "cell_type": "markdown",
   "metadata": {},
   "source": [
    "\n",
    "\n",
    "\n",
    "\n",
    "\n"
   ]
  }
 ],
 "metadata": {
  "kernelspec": {
   "display_name": "base",
   "language": "python",
   "name": "python3"
  },
  "language_info": {
   "codemirror_mode": {
    "name": "ipython",
    "version": 3
   },
   "file_extension": ".py",
   "mimetype": "text/x-python",
   "name": "python",
   "nbconvert_exporter": "python",
   "pygments_lexer": "ipython3",
   "version": "3.9.13"
  }
 },
 "nbformat": 4,
 "nbformat_minor": 2
}
