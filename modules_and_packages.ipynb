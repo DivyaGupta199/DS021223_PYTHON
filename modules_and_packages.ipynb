{
 "cells": [
  {
   "cell_type": "markdown",
   "metadata": {},
   "source": [
    "# Module : A python module is a python file with a .py extension. A module is used to perform some specific task, structure the code in a proper manner by using functions and class. Modules help to reuse the same code at different place. we can use the module in any other python file also by importing it. To import a module we use the syntax :\n",
    "\n",
    "1. import module_name \n",
    "2. import module_name as md\n",
    "3. from module_name import fun1, fun2\n",
    "4. from module_name import function1 as f1\n",
    "5. from module_name import *\n",
    "\n",
    "There are two types of modules : \n",
    "1. Inbuilt modules : These are modules provided in python library, we can simply import and use their functionalities. e.g Numpy, pandas, scikitlearn, matplotlib, math.\n",
    "If some of modules are not available in the local system so we can install it using pip.\n",
    "syntax : \n",
    "pip install module_name\n",
    "\n",
    "2. User defined modules : These are modules created by the user as per the needs. "
   ]
  },
  {
   "cell_type": "markdown",
   "metadata": {},
   "source": [
    "# Package : A package is a folder/directory which contains multiple python modules along with a file __init__.py which contains all the initializations which gets executed without explicitly calling the module. \n",
    "\n",
    "Package : \n",
    "    __init__.py\n",
    "    module2.py\n",
    "    module3.py\n",
    "    module4.py\n",
    "    "
   ]
  },
  {
   "cell_type": "markdown",
   "metadata": {},
   "source": []
  },
  {
   "cell_type": "markdown",
   "metadata": {},
   "source": []
  },
  {
   "cell_type": "code",
   "execution_count": null,
   "metadata": {},
   "outputs": [],
   "source": []
  },
  {
   "cell_type": "markdown",
   "metadata": {},
   "source": [
    "--> Create a package called maths\n",
    "--> create a module called calculator and define functions like additon, substraction, multiplication and division.\n",
    "--> Create another module named as advance_calculator and define function like square_root, cube_root, square, cube and exponent\n",
    "\n"
   ]
  }
 ],
 "metadata": {
  "language_info": {
   "name": "python"
  }
 },
 "nbformat": 4,
 "nbformat_minor": 2
}
