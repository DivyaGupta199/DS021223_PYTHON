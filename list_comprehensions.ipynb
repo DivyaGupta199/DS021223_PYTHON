{
 "cells": [
  {
   "cell_type": "markdown",
   "metadata": {},
   "source": [
    "List comprehensions are used to create a list of the basis of existing list. it provides a shorter syntax for creating a new list. "
   ]
  },
  {
   "cell_type": "code",
   "execution_count": 1,
   "metadata": {},
   "outputs": [
    {
     "data": {
      "text/plain": [
       "[1, 4, 9, 16, 25]"
      ]
     },
     "execution_count": 1,
     "metadata": {},
     "output_type": "execute_result"
    }
   ],
   "source": [
    "lst = [1,2,3,4,5]\n",
    "square_lst = []\n",
    "for i in lst:\n",
    "    sqr = i*i\n",
    "    square_lst.append(sqr)\n",
    "\n",
    "square_lst"
   ]
  },
  {
   "cell_type": "code",
   "execution_count": 2,
   "metadata": {},
   "outputs": [
    {
     "data": {
      "text/plain": [
       "[1, 4, 9, 16, 25, 36, 49, 64, 81, 100]"
      ]
     },
     "execution_count": 2,
     "metadata": {},
     "output_type": "execute_result"
    }
   ],
   "source": [
    "lst = [1,2,3,4,5,6,7,8,9,10]\n",
    "f = lambda x : x ** 2\n",
    "list(map(f,lst))"
   ]
  },
  {
   "cell_type": "code",
   "execution_count": 3,
   "metadata": {},
   "outputs": [
    {
     "data": {
      "text/plain": [
       "[1, 4, 9, 16, 25, 36, 49, 64, 81, 100]"
      ]
     },
     "execution_count": 3,
     "metadata": {},
     "output_type": "execute_result"
    }
   ],
   "source": [
    "lst = [1,2,3,4,5,6,7,8,9,10]\n",
    "square_lst = [x**2 for x in lst]\n",
    "square_lst"
   ]
  },
  {
   "cell_type": "code",
   "execution_count": 4,
   "metadata": {},
   "outputs": [
    {
     "data": {
      "text/plain": [
       "['Blue', 'Yellow', 'Orange', 'Red', 'White', 'Black']"
      ]
     },
     "execution_count": 4,
     "metadata": {},
     "output_type": "execute_result"
    }
   ],
   "source": [
    "lst = [\"blue\",\"yellow\",\"orange\",\"red\",\"white\",\"black\"]\n",
    "new_lst = [word.capitalize() for word in lst]\n",
    "new_lst"
   ]
  },
  {
   "cell_type": "code",
   "execution_count": 5,
   "metadata": {},
   "outputs": [
    {
     "data": {
      "text/plain": [
       "['Odd', 'Even', 'Odd', 'Even', 'Odd', 'Even', 'Odd', 'Even', 'Odd', 'Even']"
      ]
     },
     "execution_count": 5,
     "metadata": {},
     "output_type": "execute_result"
    }
   ],
   "source": [
    "lst = [1,2,3,4,5,6,7,8,9,10]\n",
    "# new_lst = [\"odd\",\"even\",\"odd\",\"even\".......... ,\"even\"]\n",
    "new_lst = []\n",
    "for i in lst:\n",
    "    if i%2==0:\n",
    "        new_lst.append(\"Even\")\n",
    "\n",
    "    else:\n",
    "        new_lst.append(\"Odd\")\n",
    "\n",
    "new_lst"
   ]
  },
  {
   "cell_type": "code",
   "execution_count": 6,
   "metadata": {},
   "outputs": [
    {
     "data": {
      "text/plain": [
       "['Odd', 'Even', 'Odd', 'Even', 'Odd', 'Even', 'Odd', 'Even', 'Odd', 'Even']"
      ]
     },
     "execution_count": 6,
     "metadata": {},
     "output_type": "execute_result"
    }
   ],
   "source": [
    "lst = [1,2,3,4,5,6,7,8,9,10]\n",
    "new_lst = [\"Even\" if x%2 ==0 else \"Odd\" for x in lst]\n",
    "new_lst"
   ]
  },
  {
   "cell_type": "code",
   "execution_count": null,
   "metadata": {},
   "outputs": [],
   "source": [
    "lst = [2,3,5,4,6,9,8,12,15,17,21,30]\n",
    "new_lst = [False, True, False, False, True, True, False............. True]\n"
   ]
  },
  {
   "cell_type": "code",
   "execution_count": 8,
   "metadata": {},
   "outputs": [
    {
     "data": {
      "text/plain": [
       "[False, True, False, False, True, True, False, True, True, False, True, True]"
      ]
     },
     "execution_count": 8,
     "metadata": {},
     "output_type": "execute_result"
    }
   ],
   "source": [
    "lst = [2,3,5,4,6,9,8,12,15,17,21,30]\n",
    "\n",
    "new_lst = [True if x % 3 == 0 else False for x in lst]\n",
    "\n",
    "new_lst"
   ]
  },
  {
   "cell_type": "code",
   "execution_count": 9,
   "metadata": {},
   "outputs": [
    {
     "data": {
      "text/plain": [
       "[False, True, False, False, True, True, False, True, True, False, True, True]"
      ]
     },
     "execution_count": 9,
     "metadata": {},
     "output_type": "execute_result"
    }
   ],
   "source": [
    "lst = [2,3,5,4,6,9,8,12,15,17,21,30]\n",
    "\n",
    "new_lst = [True if i % 3 == 0 else False for i in lst]\n",
    "new_lst"
   ]
  },
  {
   "cell_type": "code",
   "execution_count": 10,
   "metadata": {},
   "outputs": [
    {
     "name": "stdout",
     "output_type": "stream",
     "text": [
      "['False', 'True', 'False', 'False', 'True', 'True', 'False', 'True', 'True', 'False', 'True', 'True'],"
     ]
    }
   ],
   "source": [
    "lst = [2,3,5,4,6,9,8,12,15,17,21,30]\n",
    "new_li = [\"True\"if s%3==0 else \"False\" for s in lst]\n",
    "print(new_li, end=\",\")"
   ]
  },
  {
   "cell_type": "code",
   "execution_count": 12,
   "metadata": {},
   "outputs": [
    {
     "data": {
      "text/plain": [
       "[9, 18, 27, 36, 45, 54, 63, 72, 81, 90]"
      ]
     },
     "execution_count": 12,
     "metadata": {},
     "output_type": "execute_result"
    }
   ],
   "source": [
    "# create a list which contains table of a number provided by user using list comprehension. \n",
    "number = int(input(\"Enter a number: \"))\n",
    "\n",
    "table_lst = [number * i for i in range(1,11)]\n",
    "table_lst"
   ]
  },
  {
   "cell_type": "code",
   "execution_count": 13,
   "metadata": {},
   "outputs": [
    {
     "data": {
      "text/plain": [
       "{1: 1, 2: 8, 3: 27, 4: 64, 5: 125}"
      ]
     },
     "execution_count": 13,
     "metadata": {},
     "output_type": "execute_result"
    }
   ],
   "source": [
    "lst = [1,2,3,4,5]\n",
    "# dict = {1:1, 2:8, 3:27, 4:64, 5:125}\n",
    "dict1 ={}\n",
    "for i in lst:\n",
    "    dict1[i] = i**3\n",
    "\n",
    "dict1"
   ]
  },
  {
   "cell_type": "code",
   "execution_count": 14,
   "metadata": {},
   "outputs": [
    {
     "data": {
      "text/plain": [
       "{1: 1, 2: 8, 3: 27, 4: 64, 5: 125}"
      ]
     },
     "execution_count": 14,
     "metadata": {},
     "output_type": "execute_result"
    }
   ],
   "source": [
    "lst = [1,2,3,4,5]\n",
    "dict_cube = {i:i**3 for i in lst}\n",
    "dict_cube"
   ]
  },
  {
   "cell_type": "code",
   "execution_count": 15,
   "metadata": {},
   "outputs": [
    {
     "data": {
      "text/plain": [
       "{1: 10, 2: 20, 3: 30, 4: 40, 5: 50, 6: 60, 7: 70, 8: 80, 9: 90, 10: 100}"
      ]
     },
     "execution_count": 15,
     "metadata": {},
     "output_type": "execute_result"
    }
   ],
   "source": [
    "lst = [1,2,3,4,5,6,7,8,9,10]\n",
    "dict1 = {i:i*10 for i in lst}\n",
    "dict1"
   ]
  },
  {
   "cell_type": "code",
   "execution_count": 16,
   "metadata": {},
   "outputs": [
    {
     "name": "stdout",
     "output_type": "stream",
     "text": [
      "{'P': 'Python', 'J': 'Javascript', 'R': 'Ruby', 'H': 'Html', 'C': 'C++'}\n"
     ]
    }
   ],
   "source": [
    "lst = [\"python\",\"java\",\"ruby\",\"javascript\",\"html\",\"c++\"]\n",
    "d = {word[0].upper(): word.capitalize() for word in lst}\n",
    "\n",
    "print(d)"
   ]
  },
  {
   "cell_type": "code",
   "execution_count": null,
   "metadata": {},
   "outputs": [],
   "source": [
    "lst = [1,2,3,4,5]\n",
    "d = {\n",
    "    1 : [1,2,3,4,5,6,7,8,9,10],\n",
    "    2 : [2,4,6,8,10,12,14,16,18,20],\n",
    "    .\n",
    "    .\n",
    "    5 : [5,10,15,20,25,30,35,40,45,50]\n",
    "}\n"
   ]
  },
  {
   "cell_type": "code",
   "execution_count": 19,
   "metadata": {},
   "outputs": [
    {
     "name": "stdout",
     "output_type": "stream",
     "text": [
      "1 [1, 2, 3, 4, 5, 6, 7, 8, 9, 10]\n",
      "2 [2, 4, 6, 8, 10, 12, 14, 16, 18, 20]\n",
      "3 [3, 6, 9, 12, 15, 18, 21, 24, 27, 30]\n",
      "4 [4, 8, 12, 16, 20, 24, 28, 32, 36, 40]\n",
      "5 [5, 10, 15, 20, 25, 30, 35, 40, 45, 50]\n"
     ]
    }
   ],
   "source": [
    "lst = [1, 2, 3, 4, 5]\n",
    "\n",
    "d = {num: [num * i for i in range(1, 11)] for num in lst}\n",
    "\n",
    "for i,j in d.items():\n",
    "    print(i,j)"
   ]
  },
  {
   "cell_type": "markdown",
   "metadata": {},
   "source": [
    "# create a login page for a website \n",
    "'''Welcome to the ...... Website'''\n",
    "Press 1 to sign up If you are a new user\n",
    "press 2 to sign in if you are an existing user. \n",
    "\n",
    "1 : take input of email_id and password from the user, \n",
    "verify email_id and password using regex. \n",
    "and store it in a file. show the message \n",
    "'''signed up successfully'''\n",
    "2. take input of email_id and password and verify it from the file if it is correct or not. if it is correct so show the message \"Logged in successfully!!!\" else show the message \"Incorrect credentials\"\n",
    "\n"
   ]
  },
  {
   "cell_type": "code",
   "execution_count": 29,
   "metadata": {},
   "outputs": [
    {
     "name": "stdout",
     "output_type": "stream",
     "text": [
      "Welcome to the website\n",
      "Press 1 to Sign up\n",
      " Press 2 to Sign in : \n"
     ]
    },
    {
     "name": "stdout",
     "output_type": "stream",
     "text": [
      "Valid credentials\n",
      "Signed up successfully!!!\n"
     ]
    }
   ],
   "source": [
    "import re\n",
    "\n",
    "print(\"Welcome to the website\")\n",
    "print(\"Press 1 to Sign up\\n Press 2 to Sign in : \")\n",
    "choice = int(input(\"Enter : \"))\n",
    "if choice == 1:\n",
    "    email_id = input(\"Enter your email id : \")\n",
    "    password = input(\"Enter the password : \")\n",
    "    email_pattern = \"^\\w+[@][a-z]+[.][a-z]+$\"\n",
    "    valid_email = re.search(email_pattern,email_id)\n",
    "    password_pattern = '^(?=.*[A-Z])(?=.*[a-z])(?=.*\\d)(?=.*[@#$%^&*+]).{8,15}$'\n",
    "    valid_password = re.search(password_pattern, password)\n",
    "    if valid_email and valid_password:\n",
    "        print(\"Valid credentials\")\n",
    "        file = open(\"user_info.txt\",'a')\n",
    "        data = f\"\\n{email_id} : {password}\"\n",
    "        file.write(data)\n",
    "        file.close()\n",
    "        print(\"Signed up successfully!!!\")\n",
    "    else:\n",
    "        print(\"Invalid credentials!!!\")\n",
    "\n",
    "elif choice == 2:\n",
    "    email_id = input(\"Enter the email_id : \")\n",
    "    password = input(\"Enter the password : \")\n",
    "    cred = f\"{email_id} : {password}\\n\"\n",
    "    file = open(\"user_info.txt\",\"r\")\n",
    "    data = file.readlines()\n",
    "    for i in data:\n",
    "        if i == cred:\n",
    "            valid = True\n",
    "            print(\"Valid credentials\")\n",
    "            print(\"Logged in successfully!!!\")\n",
    "            break\n",
    "            \n",
    "        else:\n",
    "            valid = False\n",
    "    if valid == False:\n",
    "        print(\"Invalid credentials\")       \n",
    "    \n",
    "else:\n",
    "    print(\"Invalid choice\")"
   ]
  },
  {
   "cell_type": "markdown",
   "metadata": {},
   "source": [
    "# make a mini project on library :\n",
    "Admin : \n",
    "    1. add a new book in the library\n",
    "\n",
    "customer : \n",
    "    1. Display the book list.\n",
    "    2. Issue a book\n",
    "\n"
   ]
  }
 ],
 "metadata": {
  "kernelspec": {
   "display_name": "base",
   "language": "python",
   "name": "python3"
  },
  "language_info": {
   "codemirror_mode": {
    "name": "ipython",
    "version": 3
   },
   "file_extension": ".py",
   "mimetype": "text/x-python",
   "name": "python",
   "nbconvert_exporter": "python",
   "pygments_lexer": "ipython3",
   "version": "3.9.13"
  }
 },
 "nbformat": 4,
 "nbformat_minor": 2
}
