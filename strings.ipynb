{
 "cells": [
  {
   "cell_type": "markdown",
   "metadata": {},
   "source": [
    "String is a sequence datatype which is used to store text format data, it is indicated by single, double or triple quotes."
   ]
  },
  {
   "cell_type": "code",
   "execution_count": null,
   "metadata": {},
   "outputs": [],
   "source": [
    "# defining a multiline string \n",
    "data = ''' This is\n",
    "a\n",
    "multiline string.\n",
    "It is defined\n",
    "using triple quotes\n",
    "'''"
   ]
  },
  {
   "cell_type": "code",
   "execution_count": 11,
   "metadata": {},
   "outputs": [
    {
     "data": {
      "text/plain": [
       "'@1234'"
      ]
     },
     "execution_count": 11,
     "metadata": {},
     "output_type": "execute_result"
    }
   ],
   "source": [
    "# Slicing :\n",
    "\n",
    "sample = \"String@12345\" \n",
    "sample[0:5]    # from begining to a particular index value\n",
    "sample[:7]    # from begining to a particular index value\n",
    "sample[2:7]    # from a particular index value till any other index\n",
    "sample[3::]    # from a particular index value to the end\n",
    "sample[::-1]    # To reverse the string\n",
    "sample[-6:-1]    # To tranverse using negative indexing\n",
    "\n"
   ]
  },
  {
   "cell_type": "markdown",
   "metadata": {},
   "source": [
    "# Inbuilt methods of string datatype : \n",
    "1. upper() : This method is used to make all the characters of the string capitalized.\n",
    "2. lower() : This method is used to convert all the characters of the string in lowercase.\n",
    "3. isupper() : This method checks if all the characters of the string are capitalized, if yes then it returns True else it returns False\n",
    "4. islower() : This method checks if all the characters of the string are in small case, if yes then it returns True else it returns False\n",
    "5. casefold() : This method is used to convert all the characters of the string in lowercase.\n",
    "6. title() : This method makes all the words capitalized by converting the first character of each word in upper case.\n",
    "7. capitalize() : This method makes only the first word capitalized by converting the first character of word in upper case.\n",
    "8. strip() : It removes the whitespaces from the beginning and end of the string \n",
    "9. replace() : It is used to replace any substring from the string with a new substring.\n",
    "10. "
   ]
  },
  {
   "cell_type": "code",
   "execution_count": 12,
   "metadata": {},
   "outputs": [
    {
     "data": {
      "text/plain": [
       "'PYTHON PROGRAMMING'"
      ]
     },
     "execution_count": 12,
     "metadata": {},
     "output_type": "execute_result"
    }
   ],
   "source": [
    "# upper() : \n",
    "string = \"Python programming\"\n",
    "string.upper()"
   ]
  },
  {
   "cell_type": "code",
   "execution_count": 13,
   "metadata": {},
   "outputs": [
    {
     "data": {
      "text/plain": [
       "'python programming'"
      ]
     },
     "execution_count": 13,
     "metadata": {},
     "output_type": "execute_result"
    }
   ],
   "source": [
    "# lower()\n",
    "string = 'PYTHON PROGRAMMING'\n",
    "string.lower()"
   ]
  },
  {
   "cell_type": "code",
   "execution_count": 17,
   "metadata": {},
   "outputs": [
    {
     "data": {
      "text/plain": [
       "True"
      ]
     },
     "execution_count": 17,
     "metadata": {},
     "output_type": "execute_result"
    }
   ],
   "source": [
    "# isupper() : \n",
    "string = 'PYTHON PROGRAMMING'\n",
    "string.isupper()"
   ]
  },
  {
   "cell_type": "code",
   "execution_count": 19,
   "metadata": {},
   "outputs": [
    {
     "data": {
      "text/plain": [
       "False"
      ]
     },
     "execution_count": 19,
     "metadata": {},
     "output_type": "execute_result"
    }
   ],
   "source": [
    "# islower() : \n",
    "string = 'PYTHON PROGRAMMING'\n",
    "string.islower()"
   ]
  },
  {
   "cell_type": "code",
   "execution_count": 20,
   "metadata": {},
   "outputs": [
    {
     "data": {
      "text/plain": [
       "'python programming'"
      ]
     },
     "execution_count": 20,
     "metadata": {},
     "output_type": "execute_result"
    }
   ],
   "source": [
    "# casefold\n",
    "string = 'PYTHON PROGRAMMING'\n",
    "string.casefold()"
   ]
  },
  {
   "cell_type": "code",
   "execution_count": 21,
   "metadata": {},
   "outputs": [
    {
     "data": {
      "text/plain": [
       "'Python Programming'"
      ]
     },
     "execution_count": 21,
     "metadata": {},
     "output_type": "execute_result"
    }
   ],
   "source": [
    "# title()\n",
    "string = 'PYTHON PROGRAMMING'\n",
    "string.title()"
   ]
  },
  {
   "cell_type": "code",
   "execution_count": 22,
   "metadata": {},
   "outputs": [
    {
     "data": {
      "text/plain": [
       "'Python programming'"
      ]
     },
     "execution_count": 22,
     "metadata": {},
     "output_type": "execute_result"
    }
   ],
   "source": [
    "# capitalize()\n",
    "string = 'PYTHON PROGRAMMING'\n",
    "string.capitalize()"
   ]
  },
  {
   "cell_type": "code",
   "execution_count": 24,
   "metadata": {},
   "outputs": [
    {
     "data": {
      "text/plain": [
       "'Python programming'"
      ]
     },
     "execution_count": 24,
     "metadata": {},
     "output_type": "execute_result"
    }
   ],
   "source": [
    "# strip()\n",
    "string = '           Python programming              '\n",
    "string.strip()"
   ]
  },
  {
   "cell_type": "code",
   "execution_count": 25,
   "metadata": {},
   "outputs": [
    {
     "data": {
      "text/plain": [
       "'Python programming              '"
      ]
     },
     "execution_count": 25,
     "metadata": {},
     "output_type": "execute_result"
    }
   ],
   "source": [
    "# lstrip()\n",
    "string = '           Python programming              '\n",
    "string.lstrip()\n"
   ]
  },
  {
   "cell_type": "code",
   "execution_count": 26,
   "metadata": {},
   "outputs": [
    {
     "data": {
      "text/plain": [
       "'           Python programming'"
      ]
     },
     "execution_count": 26,
     "metadata": {},
     "output_type": "execute_result"
    }
   ],
   "source": [
    "# rstrip()\n",
    "string = '           Python programming              '\n",
    "string.rstrip()\n"
   ]
  },
  {
   "cell_type": "code",
   "execution_count": 30,
   "metadata": {},
   "outputs": [
    {
     "data": {
      "text/plain": [
       "'C programming'"
      ]
     },
     "execution_count": 30,
     "metadata": {},
     "output_type": "execute_result"
    }
   ],
   "source": [
    "# replace() : \n",
    "string = \"python programming\"\n",
    "string = string.replace(\"python\",\"C\")\n",
    "string"
   ]
  },
  {
   "cell_type": "code",
   "execution_count": 34,
   "metadata": {},
   "outputs": [
    {
     "data": {
      "text/plain": [
       "'Mr Ram Kumar'"
      ]
     },
     "execution_count": 34,
     "metadata": {},
     "output_type": "execute_result"
    }
   ],
   "source": [
    "# concatenation of strings : \n",
    "first_name = \"Ram\"\n",
    "last_name = \"Kumar\"\n",
    "name =\"Mr \" + first_name + \" \" + last_name\n",
    "name\n",
    "\n"
   ]
  },
  {
   "cell_type": "code",
   "execution_count": null,
   "metadata": {},
   "outputs": [],
   "source": [
    "value1 = 10\n",
    "value2 = 20\n",
    "print(value1 + value2)"
   ]
  },
  {
   "cell_type": "code",
   "execution_count": 43,
   "metadata": {},
   "outputs": [
    {
     "data": {
      "text/plain": [
       "'Ram scored 83 % in 10th class and has aquired 4th position in the class'"
      ]
     },
     "execution_count": 43,
     "metadata": {},
     "output_type": "execute_result"
    }
   ],
   "source": [
    "# format\n",
    "name = \"Ram\"\n",
    "percentage = \"83\"\n",
    "Grade = \"A\"\n",
    "rank = 4\n",
    "result = name + \" Scored \" + percentage + \"%\" + \" in 10th class\"\n",
    "result = \"{} scored {} % in 10th class and has aquired {}th position in the class\".format(name, percentage, rank)\n",
    "result = \"{2} scored {0} % in 10th class and has aquired {1}th position in the class\".format(percentage, rank,name)\n",
    "result = f\"{name} scored {percentage} % in 10th class and has aquired {rank}th position in the class\"\n",
    "result"
   ]
  },
  {
   "cell_type": "code",
   "execution_count": 48,
   "metadata": {},
   "outputs": [
    {
     "data": {
      "text/plain": [
       "True"
      ]
     },
     "execution_count": 48,
     "metadata": {},
     "output_type": "execute_result"
    }
   ],
   "source": [
    "# startswith() : \n",
    "data = \"Python is a high level multipurpose programming language\"\n",
    "data.startswith(\"Python\")"
   ]
  },
  {
   "cell_type": "code",
   "execution_count": 54,
   "metadata": {},
   "outputs": [
    {
     "data": {
      "text/plain": [
       "True"
      ]
     },
     "execution_count": 54,
     "metadata": {},
     "output_type": "execute_result"
    }
   ],
   "source": [
    "# endswith() : \n",
    "# startswith() : \n",
    "data = \"Python is a high level multipurpose programming language.\"\n",
    "data.endswith(\"e.\")"
   ]
  },
  {
   "cell_type": "code",
   "execution_count": 59,
   "metadata": {},
   "outputs": [
    {
     "data": {
      "text/plain": [
       "True"
      ]
     },
     "execution_count": 59,
     "metadata": {},
     "output_type": "execute_result"
    }
   ],
   "source": [
    "# isalpha() : \n",
    "data = \"Python\"\n",
    "data.isalpha()\n"
   ]
  },
  {
   "cell_type": "code",
   "execution_count": 61,
   "metadata": {},
   "outputs": [
    {
     "data": {
      "text/plain": [
       "True"
      ]
     },
     "execution_count": 61,
     "metadata": {},
     "output_type": "execute_result"
    }
   ],
   "source": [
    "# isnumeric() : \n",
    "data = \"123456\"\n",
    "data.isnumeric()\n"
   ]
  },
  {
   "cell_type": "code",
   "execution_count": 63,
   "metadata": {},
   "outputs": [
    {
     "data": {
      "text/plain": [
       "True"
      ]
     },
     "execution_count": 63,
     "metadata": {},
     "output_type": "execute_result"
    }
   ],
   "source": [
    "# isdigit()\n",
    "data = \"123456\"\n",
    "data.isdigit()"
   ]
  },
  {
   "cell_type": "code",
   "execution_count": 68,
   "metadata": {},
   "outputs": [
    {
     "data": {
      "text/plain": [
       "True"
      ]
     },
     "execution_count": 68,
     "metadata": {},
     "output_type": "execute_result"
    }
   ],
   "source": [
    "# isalnum() : \n",
    "data = \"string12345\" \n",
    "data.isalnum()\n"
   ]
  },
  {
   "cell_type": "code",
   "execution_count": 71,
   "metadata": {},
   "outputs": [
    {
     "data": {
      "text/plain": [
       "True"
      ]
     },
     "execution_count": 71,
     "metadata": {},
     "output_type": "execute_result"
    }
   ],
   "source": [
    "# isspace() : \n",
    "data = \" \"\n",
    "data.isspace()"
   ]
  },
  {
   "cell_type": "code",
   "execution_count": 74,
   "metadata": {},
   "outputs": [
    {
     "data": {
      "text/plain": [
       "29"
      ]
     },
     "execution_count": 74,
     "metadata": {},
     "output_type": "execute_result"
    }
   ],
   "source": [
    "# len() : \n",
    "string = \"Python   programming language\"\n",
    "len(string)"
   ]
  },
  {
   "cell_type": "code",
   "execution_count": 79,
   "metadata": {},
   "outputs": [
    {
     "data": {
      "text/plain": [
       "-1"
      ]
     },
     "execution_count": 79,
     "metadata": {},
     "output_type": "execute_result"
    }
   ],
   "source": [
    "# find() : \n",
    "string = \"Python\"\n",
    "string.find(\"p\")"
   ]
  },
  {
   "cell_type": "markdown",
   "metadata": {},
   "source": [
    "Write a program to check if the user has entered valid mobile number :\n",
    "valid mobile number : \n",
    "1. It should have all the digits\n",
    "2. length should be 10. \n",
    "3. It should start with either 9 or 8."
   ]
  },
  {
   "cell_type": "code",
   "execution_count": 85,
   "metadata": {},
   "outputs": [
    {
     "name": "stdout",
     "output_type": "stream",
     "text": [
      "It is not a Valid mobile number\n"
     ]
    }
   ],
   "source": [
    "mobile_number = input(\"Enter your mobile number : \")\n",
    "digits = mobile_number.isdigit()\n",
    "length = len(mobile_number)\n",
    "valid = True\n",
    "if digits == True and length == 10 and (mobile_number.startswith('9') or mobile_number.startswith('8')):\n",
    "    valid = True\n",
    "\n",
    "else:\n",
    "    valid = False\n",
    "\n",
    "if valid == True:\n",
    "    print(\"It is a Valid mobile number \")\n",
    "\n",
    "else:\n",
    "    print(\"It is not a Valid mobile number\")\n",
    "\n"
   ]
  },
  {
   "cell_type": "markdown",
   "metadata": {},
   "source": [
    "# Write a program to check the validity of a password, password is entered by the user. \n",
    "A valid password contains : \n",
    "1. atleast 1 uppercase character\n",
    "2. atleast 1 lowercase character\n",
    "3. length of password should be greater than 8\n",
    "4. password must contain the special character @ or #\n",
    "5. password should contain atleast 1 digit"
   ]
  },
  {
   "cell_type": "code",
   "execution_count": 7,
   "metadata": {},
   "outputs": [
    {
     "name": "stdout",
     "output_type": "stream",
     "text": [
      "invalid password\n"
     ]
    }
   ],
   "source": [
    "password = input(\"Enter your password : \")\n",
    "\n",
    "uppercase = False\n",
    "lowercase = False\n",
    "digit = False \n",
    "special_character = False \n",
    "\n",
    "for char in password :\n",
    "    if char.isupper():\n",
    "        uppercase = True\n",
    "    elif char.islower():\n",
    "        lowercase = True \n",
    "    elif char.isdigit():\n",
    "        digit = True \n",
    "    elif char in ['@','#']:\n",
    "        special_character = True \n",
    "\n",
    "if uppercase and lowercase and digit and special_character and len(password) > 8:\n",
    "    print(\"your password is valid\")\n",
    "else:\n",
    "    print(\"invalid password\")\n",
    "\n"
   ]
  }
 ],
 "metadata": {
  "kernelspec": {
   "display_name": "base",
   "language": "python",
   "name": "python3"
  },
  "language_info": {
   "codemirror_mode": {
    "name": "ipython",
    "version": 3
   },
   "file_extension": ".py",
   "mimetype": "text/x-python",
   "name": "python",
   "nbconvert_exporter": "python",
   "pygments_lexer": "ipython3",
   "version": "3.9.13"
  }
 },
 "nbformat": 4,
 "nbformat_minor": 2
}
