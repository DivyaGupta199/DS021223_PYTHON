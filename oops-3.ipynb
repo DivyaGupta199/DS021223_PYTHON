{
 "cells": [
  {
   "cell_type": "markdown",
   "metadata": {},
   "source": [
    "# Encapsulation : Wrapping up of data/variables and methods at one place so that they can work as a single unit is called encapsulation. In object oriented programming we create a class to bind the data and methods at one place. \n",
    "It restricts the methods and the attributes to be used outside the class. to use them we need to create an object of that class. encapsulation is used to provide data security and structure the code. "
   ]
  },
  {
   "cell_type": "code",
   "execution_count": 1,
   "metadata": {},
   "outputs": [
    {
     "name": "stdout",
     "output_type": "stream",
     "text": [
      "Driving\n"
     ]
    }
   ],
   "source": [
    "class car:\n",
    "    brand = \"Honda\"\n",
    "    model = \"\"\n",
    "    colour = \"\"\n",
    "    mileage = \"\"\n",
    "    def drive(self):\n",
    "        print(\"Driving\")\n",
    "\n",
    "obj = car()\n",
    "obj.drive()"
   ]
  },
  {
   "cell_type": "markdown",
   "metadata": {},
   "source": [
    "# Polymorphism : The ability of a method to work differently at different places. Two functions can have the same name but they can perform functionalities. \n",
    "poly --> many\n",
    "morphism --> forms \n",
    "# Method overloading\n",
    "# Method overriding"
   ]
  },
  {
   "cell_type": "code",
   "execution_count": 3,
   "metadata": {},
   "outputs": [],
   "source": [
    "# Method overloading\n",
    "class addition:\n",
    "    def add(self,a,b):\n",
    "        return a+b\n",
    "    \n",
    "    def add(self,a,b,c):\n",
    "        return a+b+c"
   ]
  },
  {
   "cell_type": "code",
   "execution_count": 6,
   "metadata": {},
   "outputs": [
    {
     "data": {
      "text/plain": [
       "70"
      ]
     },
     "execution_count": 6,
     "metadata": {},
     "output_type": "execute_result"
    }
   ],
   "source": [
    "obj = addition()\n",
    "obj.add(10,20,40)"
   ]
  },
  {
   "cell_type": "code",
   "execution_count": 12,
   "metadata": {},
   "outputs": [],
   "source": [
    "# Method overriding : \n",
    "class A():\n",
    "    def display(self):\n",
    "        print(\"This is display method of A class\")\n",
    "\n",
    "    def product(self,a,b):\n",
    "        return a*b\n",
    "    \n",
    "\n",
    "class B(A):\n",
    "    def sum(self,a,b):\n",
    "        return a+b\n",
    "    \n",
    "    def display(self):\n",
    "        print(\"We are in B Class\")\n",
    "\n"
   ]
  },
  {
   "cell_type": "code",
   "execution_count": 13,
   "metadata": {},
   "outputs": [
    {
     "name": "stdout",
     "output_type": "stream",
     "text": [
      "This is display method of A class\n"
     ]
    }
   ],
   "source": [
    "obj_a = A()\n",
    "obj_a.display()"
   ]
  },
  {
   "cell_type": "code",
   "execution_count": 14,
   "metadata": {},
   "outputs": [
    {
     "data": {
      "text/plain": [
       "50"
      ]
     },
     "execution_count": 14,
     "metadata": {},
     "output_type": "execute_result"
    }
   ],
   "source": [
    "obj_a.product(10,5)"
   ]
  },
  {
   "cell_type": "code",
   "execution_count": 17,
   "metadata": {},
   "outputs": [
    {
     "name": "stdout",
     "output_type": "stream",
     "text": [
      "We are in B Class\n"
     ]
    }
   ],
   "source": [
    "obj_b = B()\n",
    "obj_b.sum(12,13)\n",
    "obj_b.product(4,7)\n",
    "obj_b.display()"
   ]
  },
  {
   "cell_type": "markdown",
   "metadata": {},
   "source": [
    "# Abstraction : Hiding the unnecessary information from the user is called abstraction. \n",
    "for this purpose we use an abstract class.\n",
    "An abstract class is a blueprint for the other classes, in abstract class we have abstract methods, without abstract method we cannot make an abstract class. This class works as a parent class for the other classes. \n",
    "\n",
    "Abstract class -- > Class which contains abstract method\n",
    "Abstract method -- > Method with declaration but no definition, it is made using abstractclassmethod decorated which is imported from abc module\n",
    "\n",
    "concrete class --> Class which does not contain abstract method\n",
    "concrete method --> Method with declaration as well as definition.\n",
    "\n",
    "we cannot make objects of abstract class, objects can only be made for concrete classes. \n",
    "\n"
   ]
  },
  {
   "cell_type": "code",
   "execution_count": 29,
   "metadata": {},
   "outputs": [],
   "source": [
    "from abc import ABC, abstractclassmethod\n",
    "\n",
    "class sample(ABC):\n",
    "    @abstractclassmethod\n",
    "    def display(self):\n",
    "        pass\n",
    "    @abstractclassmethod\n",
    "    def function1(self):\n",
    "        pass\n",
    "\n",
    "    def fun2(self):\n",
    "        print(\"This is fun2 of abstract class\")\n"
   ]
  },
  {
   "cell_type": "code",
   "execution_count": 34,
   "metadata": {},
   "outputs": [],
   "source": [
    "class child(sample):\n",
    "    def display(self):\n",
    "        print(\"Defining display method of abstract class\")\n",
    "\n",
    "    def function1(self):\n",
    "        print(\"Defining function1 of abstract class\")\n",
    "    def method1(self):\n",
    "        print(\"This is method 1 of child class\")\n",
    "\n",
    "        "
   ]
  },
  {
   "cell_type": "code",
   "execution_count": 32,
   "metadata": {},
   "outputs": [
    {
     "ename": "TypeError",
     "evalue": "Can't instantiate abstract class sample with abstract methods display, function1",
     "output_type": "error",
     "traceback": [
      "\u001b[1;31m---------------------------------------------------------------------------\u001b[0m",
      "\u001b[1;31mTypeError\u001b[0m                                 Traceback (most recent call last)",
      "\u001b[1;32m~\\AppData\\Local\\Temp\\ipykernel_5828\\794809625.py\u001b[0m in \u001b[0;36m<module>\u001b[1;34m\u001b[0m\n\u001b[1;32m----> 1\u001b[1;33m \u001b[0mobj\u001b[0m \u001b[1;33m=\u001b[0m \u001b[0msample\u001b[0m\u001b[1;33m(\u001b[0m\u001b[1;33m)\u001b[0m\u001b[1;33m\u001b[0m\u001b[1;33m\u001b[0m\u001b[0m\n\u001b[0m",
      "\u001b[1;31mTypeError\u001b[0m: Can't instantiate abstract class sample with abstract methods display, function1"
     ]
    }
   ],
   "source": [
    "obj = sample()"
   ]
  },
  {
   "cell_type": "code",
   "execution_count": 35,
   "metadata": {},
   "outputs": [],
   "source": [
    "obj = child()"
   ]
  },
  {
   "cell_type": "code",
   "execution_count": 36,
   "metadata": {},
   "outputs": [
    {
     "name": "stdout",
     "output_type": "stream",
     "text": [
      "Defining display method of abstract class\n"
     ]
    }
   ],
   "source": [
    "obj.display()"
   ]
  },
  {
   "cell_type": "code",
   "execution_count": 37,
   "metadata": {},
   "outputs": [
    {
     "name": "stdout",
     "output_type": "stream",
     "text": [
      "This is fun2 of abstract class\n"
     ]
    }
   ],
   "source": [
    "obj.fun2()"
   ]
  },
  {
   "cell_type": "code",
   "execution_count": 38,
   "metadata": {},
   "outputs": [
    {
     "name": "stdout",
     "output_type": "stream",
     "text": [
      "Defining function1 of abstract class\n"
     ]
    }
   ],
   "source": [
    "obj.function1()"
   ]
  },
  {
   "cell_type": "markdown",
   "metadata": {},
   "source": [
    "# Types of variables in python : \n",
    "1. Global variables\n",
    "2. Local variables\n",
    "3. static/class variables\n",
    "4. Instance variables"
   ]
  },
  {
   "cell_type": "code",
   "execution_count": 39,
   "metadata": {},
   "outputs": [],
   "source": [
    "number = 10  # global variable \n",
    "\n",
    "class sample:\n",
    "    variable1 = 100                           # static/class variables\n",
    "    variable2 = 200\n",
    "\n",
    "    def __init__(self):\n",
    "        self.num1 = 20                         # instance variables\n",
    "        self.num2 = 30\n",
    "\n",
    "    def add(self,x,y):    \n",
    "        z = 5                   # local variables              \n",
    "        return x+y+z\n",
    "    \n",
    "    def sub(self,a,b):\n",
    "        return a-B\n",
    "    \n",
    "    def multiplication(self):\n",
    "        return self.num1*self.num2\n",
    "    \n",
    "    def division(self):\n",
    "        result = sample.variable1 / sample.variable2\n",
    "    \n"
   ]
  },
  {
   "cell_type": "code",
   "execution_count": 48,
   "metadata": {},
   "outputs": [],
   "source": [
    "obj1 = sample()\n",
    "obj2 = sample()"
   ]
  },
  {
   "cell_type": "code",
   "execution_count": 49,
   "metadata": {},
   "outputs": [
    {
     "data": {
      "text/plain": [
       "2444370191568"
      ]
     },
     "execution_count": 49,
     "metadata": {},
     "output_type": "execute_result"
    }
   ],
   "source": [
    "obj1.variable1 = 1000\n",
    "id(obj1.variable1)"
   ]
  },
  {
   "cell_type": "code",
   "execution_count": 50,
   "metadata": {},
   "outputs": [
    {
     "data": {
      "text/plain": [
       "2444255319504"
      ]
     },
     "execution_count": 50,
     "metadata": {},
     "output_type": "execute_result"
    }
   ],
   "source": [
    "id(obj2.variable1)"
   ]
  },
  {
   "cell_type": "code",
   "execution_count": 54,
   "metadata": {},
   "outputs": [
    {
     "data": {
      "text/plain": [
       "2444370404928"
      ]
     },
     "execution_count": 54,
     "metadata": {},
     "output_type": "execute_result"
    }
   ],
   "source": [
    "obj1.num1 = 20\n",
    "id(obj1)"
   ]
  },
  {
   "cell_type": "code",
   "execution_count": 55,
   "metadata": {},
   "outputs": [
    {
     "data": {
      "text/plain": [
       "2444255128464"
      ]
     },
     "execution_count": 55,
     "metadata": {},
     "output_type": "execute_result"
    }
   ],
   "source": [
    "id(obj2.num1)"
   ]
  }
 ],
 "metadata": {
  "kernelspec": {
   "display_name": "base",
   "language": "python",
   "name": "python3"
  },
  "language_info": {
   "codemirror_mode": {
    "name": "ipython",
    "version": 3
   },
   "file_extension": ".py",
   "mimetype": "text/x-python",
   "name": "python",
   "nbconvert_exporter": "python",
   "pygments_lexer": "ipython3",
   "version": "3.9.13"
  }
 },
 "nbformat": 4,
 "nbformat_minor": 2
}
